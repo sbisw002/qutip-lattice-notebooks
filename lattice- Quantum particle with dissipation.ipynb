{
 "cells": [
  {
   "cell_type": "markdown",
   "metadata": {},
   "source": [
    "#  Quantum particle with dissipation (Usage of steadystate for a lattice model)"
   ]
  },
  {
   "cell_type": "markdown",
   "metadata": {},
   "source": [
    "Saumya Biswas (saumyab@uoregon.edu)"
   ]
  },
  {
   "cell_type": "markdown",
   "metadata": {},
   "source": [
    "On a lattice, we can track the time evolution of quantum states of microscopic phenomena as well as macroscopic problems."
   ]
  },
  {
   "cell_type": "markdown",
   "metadata": {},
   "source": [
    "## A wave propagation example"
   ]
  },
  {
   "cell_type": "markdown",
   "metadata": {},
   "source": [
    "The continuum/scattering eigenstates of the Hamiltonian (also eigenstates of the crystal momentum operator) of a 1d lattice are complex plane waves. These plane waves are commensurate with the length of the lattice, i.e. the length of the crystal is an integer multiple of the wavelength of the plane wave. Scattering states carry a current and has a nonzero momentum. In a coherent dynamics example, they propagate energy/current in a direction. "
   ]
  },
  {
   "cell_type": "code",
   "execution_count": 54,
   "metadata": {},
   "outputs": [],
   "source": [
    "from qutip import *\n",
    "import matplotlib.pyplot as plt\n",
    "import numpy as np"
   ]
  },
  {
   "cell_type": "code",
   "execution_count": 55,
   "metadata": {},
   "outputs": [],
   "source": [
    "gamma = 2\n",
    "num_cell = 30\n",
    "cell_num_site = 1\n",
    "cell_site_dof = [2]\n",
    "v0 = 1 \n",
    "vm1 = 0.75 * v0 \n",
    "Delta = 1\n",
    "\n",
    "kpoints = 100\n",
    "vpns = 126\n",
    "\n",
    "Vb_A = np.zeros((vpns, 1), dtype=complex)\n",
    "VbI_A = np.zeros((vpns, 1), dtype=complex)\n",
    "Vb_ana_A = np.zeros((vpns, 1), dtype=complex)\n",
    "VbL_A = np.zeros((vpns, 1), dtype=complex)\n",
    "Vp1_Array = np.zeros((vpns, 1), dtype=float)\n",
    "ck_ops = [np.sqrt(gamma) * destroy(2) ]"
   ]
  },
  {
   "cell_type": "markdown",
   "metadata": {},
   "source": [
    "## With a lattice model"
   ]
  },
  {
   "cell_type": "code",
   "execution_count": 62,
   "metadata": {},
   "outputs": [],
   "source": [
    "for j in range(vpns):\n",
    "    vp1 = 0.01 * j\n",
    "   \n",
    "    Vp1_Array[j, 0] = vp1\n",
    "\n",
    "    cell_H = Qobj(np.array([[0, v0], [v0, Delta]]))\n",
    "#    inter_cell_T = Qobj(np.array([[0, vm1], [vp1, 0]]))\n",
    "    inter_cell_T = Qobj(np.array([[0, vp1], [vm1, 0]]))   # For now\n",
    "\n",
    "    disp_lat = Lattice1d(num_cell=num_cell, boundary = \"periodic\", cell_num_site = cell_num_site, cell_site_dof = cell_site_dof, Hamiltonian_of_cell = cell_H, inter_hop = inter_cell_T )\n",
    "    xd = disp_lat.x()\n",
    "    Hamt = disp_lat.Hamiltonian()    \n",
    "    vel_op = -1j* (Hamt * xd - xd * Hamt)\n",
    "    \n",
    "    cl_ops = []\n",
    "    B2A = destroy(2)\n",
    "    #B2A = create(2)\n",
    "    for i in range(num_cell):\n",
    "        Lm = np.sqrt(gamma) * disp_lat.operator_at_cells(B2A, [i])\n",
    "        cl_ops.append(Lm)\n",
    "\n",
    "    lat_ss = steadystate(Hamt, cl_ops)\n",
    "\n",
    "    VsL = (lat_ss * vel_op).tr()\n",
    "    VbL_A[j, 0] = VsL\n"
   ]
  },
  {
   "cell_type": "code",
   "execution_count": 63,
   "metadata": {},
   "outputs": [
    {
     "data": {
      "image/png": "[encoded data removed]",
      "text/plain": [
       "<Figure size 432x288 with 1 Axes>"
      ]
     },
     "metadata": {
      "needs_background": "light"
     },
     "output_type": "display_data"
    }
   ],
   "source": [
    "plt.plot(Vp1_Array , np.real(VbL_A),'b')\n",
    "plt.ylabel('barV')\n",
    "plt.show()\n",
    "plt.close()"
   ]
  },
  {
   "cell_type": "markdown",
   "metadata": {},
   "source": [
    "## Using steady state functions"
   ]
  },
  {
   "cell_type": "code",
   "execution_count": 64,
   "metadata": {},
   "outputs": [
    {
     "name": "stderr",
     "output_type": "stream",
     "text": [
      "/home/ssaumya7/anaconda_21/envs/serenity/lib/python3.6/site-packages/ipykernel_launcher.py:35: VisibleDeprecationWarning: Creating an ndarray from ragged nested sequences (which is a list-or-tuple of lists-or-tuples-or ndarrays with different lengths or shapes) is deprecated. If you meant to do this, you must specify 'dtype=object' when creating the ndarray\n"
     ]
    }
   ],
   "source": [
    "for j in range(vpns):\n",
    "    vp1 = 0.01 * j\n",
    "    \n",
    "    Vp1_Array[j, 0] = vp1\n",
    "\n",
    "    cell_H = Qobj(np.array([[0, v0], [v0, Delta]]))\n",
    "#    inter_cell_T = Qobj(np.array([[0, vm1], [vp1, 0]]))\n",
    "    inter_cell_T = Qobj(np.array([[0, vp1], [vm1, 0]]))   # For now\n",
    "\n",
    "    # print(cell_H)\n",
    "    # print(inter_cell_T)\n",
    "\n",
    "    disp_lat = Lattice1d(num_cell=num_cell, boundary = \"periodic\", cell_num_site = cell_num_site, cell_site_dof = cell_site_dof, Hamiltonian_of_cell = cell_H, inter_hop = inter_cell_T )\n",
    "\n",
    "    (knxA, qH_ks, val_kns, vec_kns, vec_xs) = disp_lat._k_space_calculations(kpoints)\n",
    "    \n",
    "    dHdks = np.array([None for i in range(kpoints)])\n",
    "    EH_ks = np.array([None for i in range(kpoints+1)])\n",
    "    rhok_sss = np.array([None for i in range(kpoints)])\n",
    "    for l in range(kpoints):\n",
    "        EH_ks[l] = qH_ks[l]\n",
    "    EH_ks[kpoints] = qH_ks[0]\n",
    "    \n",
    "    for l in range(kpoints):\n",
    "#        print(\"l: \", l)\n",
    "        dHdks[l] = EH_ks[l+1] - EH_ks[l]\n",
    "    dHdks = (kpoints/2/np.pi) * dHdks\n",
    "\n",
    "    t_trace = 0\n",
    "    for k in range(kpoints):\n",
    "        Hamt_k = qH_ks[k]\n",
    "        kval = knxA[k]\n",
    "        \n",
    "        ck = v0 + vm1 * np.exp(-kval*1j) + vp1 * np.exp(kval*1j)\n",
    "        Ham_k = Qobj(np.array([[Delta, ck], [np.conj(ck), 0]]))        \n",
    "        \n",
    "        rhok_ss = steadystate(Hamt_k, ck_ops)\n",
    "        \n",
    "        rh_ss_00 =  ck*np.conj(ck)+ (Delta **2 + (gamma/2)**2)\n",
    "        rh_ss_01 = -ck * (Delta - 1j*gamma/2)\n",
    "        rh_ss_10 = -np.conj(ck) * (Delta + 1j*gamma/2)\n",
    "        rh_ss_11 =  ck*np.conj(ck)\n",
    "        \n",
    "        rh_ss = np.zeros((2, 2), dtype=complex)\n",
    "        rh_ss[0, 0] = rh_ss_00\n",
    "        rh_ss[0, 1] = rh_ss_01\n",
    "        rh_ss[1, 0] = rh_ss_10\n",
    "        rh_ss[1, 1] = rh_ss_11\n",
    "#        rh_ss = np.array([[rh_ss_00, rh_ss_10], [rh_ss_01, rh_ss_11]])\n",
    "        rh_ss = rh_ss / (2*ck*np.conj(ck)+ (Delta **2 + (gamma/2)**2))\n",
    "        rh_ss = rh_ss / rh_ss[1, 1]\n",
    "        rh_ss = Qobj(rh_ss)\n",
    "\n",
    "        rhok_sss[k] = rhok_ss\n",
    "        rhok_sss[k] = rh_ss        \n",
    "        t_trace = t_trace + rhok_sss[k].tr()\n",
    "\n",
    "    rhok_sss = rhok_sss / t_trace\n",
    "    \n",
    "    barV = np.zeros((1, kpoints), dtype=complex)\n",
    "    barVI = np.zeros((1, kpoints), dtype=complex)\n",
    "\n",
    "\n",
    "\n",
    "    sums = 0\n",
    "    for i in range(100):\n",
    "        k = 2*np.pi/100* i\n",
    "        ck = v0 + vp1 * np.exp(k*1j) + vm1 * np.exp(-k*1j)\n",
    "        sums = sums + 2 + (Delta ** 2 + (gamma/2) ** 2)/ ck /np.conj(ck)\n",
    "\n",
    "    Z = sums\n",
    "\n",
    "    for k in range(kpoints):\n",
    "        dHdk = dHdks[k]\n",
    "\n",
    "        kval = knxA[k]        \n",
    "\n",
    "        ck = v0 + vp1 * np.exp(kval*1j) + vm1 * np.exp(-kval*1j)\n",
    "#        dk = 1j * (vp1 * np.exp(kval*1j) - vm1 * np.exp(-kval*1j) )\n",
    "        rhok_01 = (-Delta + 1j*gamma/2) / np.conj(ck)\n",
    "        rhok_10 = (-Delta - 1j*gamma/2) / ck\n",
    "        rhok_00 = (1 + rhok_01 * rhok_10)\n",
    "        rhok_11 = 1\n",
    "        rhok = np.array([[rhok_00, rhok_01], [rhok_10, rhok_11]],dtype=complex)\n",
    "        rhok = rhok / Z\n",
    "        rhok = Qobj(rhok)\n",
    "        \n",
    "        \n",
    "        rhok_ss = rhok_sss[k]\n",
    "\n",
    "        barV[0, k] = (dHdk * rhok_ss).tr()\n",
    "        barVI[0, k] = (dHdk * rhok).tr()        \n",
    "    Vb = np.sum(barV)    #sum over k\n",
    "    VbI = np.sum(barVI)    #sum over k    \n",
    "    Vb_A[j, 0] = Vb\n",
    "    VbI_A[j, 0] = VbI "
   ]
  },
  {
   "cell_type": "code",
   "execution_count": 65,
   "metadata": {},
   "outputs": [
    {
     "data": {
      "image/png": "[encoded data removed]",
      "text/plain": [
       "<Figure size 432x288 with 1 Axes>"
      ]
     },
     "metadata": {
      "needs_background": "light"
     },
     "output_type": "display_data"
    },
    {
     "data": {
      "image/png": "[encoded data removed]",
      "text/plain": [
       "<Figure size 432x288 with 1 Axes>"
      ]
     },
     "metadata": {
      "needs_background": "light"
     },
     "output_type": "display_data"
    }
   ],
   "source": [
    "plt.plot(Vp1_Array , np.real(Vb_A),'r')\n",
    "plt.ylabel('barV')\n",
    "plt.show()\n",
    "plt.close()\n",
    "\n",
    "plt.plot( Vp1_Array , np.real(VbI_A),'r')\n",
    "plt.ylabel('barV')\n",
    "plt.show()\n",
    "plt.close()"
   ]
  },
  {
   "cell_type": "markdown",
   "metadata": {},
   "source": [
    "## Analytical Results"
   ]
  },
  {
   "cell_type": "code",
   "execution_count": 66,
   "metadata": {},
   "outputs": [],
   "source": [
    "for j in range(126):\n",
    "    vp1 = 0.01 * j\n",
    "    Vp1_Array[j, 0] = vp1\n",
    "\n",
    "    sums = 0\n",
    "    for i in range(101):\n",
    "        k = 2*np.pi/100* i\n",
    "        ck = v0 + vp1 * np.exp(k*1j) + vm1 * np.exp(-k*1j)\n",
    "        sums = sums + 2 + (Delta ** 2 + (gamma/2) ** 2)/ ck /np.conj(ck)\n",
    "\n",
    "    Z = sums\n",
    "\n",
    "    barV = np.zeros((1, 101), dtype=complex)\n",
    "    kA = np.zeros((101, 1), dtype=complex)\n",
    "\n",
    "    for i in range(101):\n",
    "        k = 2*np.pi/100* i\n",
    "        kA[i, 0] = k\n",
    "        ck = v0 + vp1 * np.exp(k*1j) + vm1 * np.exp(-k*1j)\n",
    "        dk = 1j * (vp1 * np.exp(k*1j) - vm1 * np.exp(-k*1j) )\n",
    "        rhok_01 = (-Delta + 1j*gamma/2) / np.conj(ck)/Z\n",
    "        rhok_10 = np.conj(rhok_01)/Z\n",
    "        rhok_00 = (1 + rhok_01 * rhok_10)/Z\n",
    "        rhok_11 = 1/Z\n",
    "        rhok = np.array([[rhok_00, rhok_01], [rhok_10, rhok_11]],dtype=complex)\n",
    "        rhok = Qobj(rhok)\n",
    "    \n",
    "        dHkdk = np.array([[0, dk], [np.conj(dk), 0]], dtype=complex)\n",
    "        dHkdk = Qobj(dHkdk)\n",
    "    \n",
    "        v_t = dHkdk * rhok\n",
    "        barV[0, i] = v_t.tr()    \n",
    "\n",
    "    Vb = np.sum(barV)    #sum over k\n",
    "    Vb_ana_A[j, 0] = Vb"
   ]
  },
  {
   "cell_type": "code",
   "execution_count": 67,
   "metadata": {},
   "outputs": [
    {
     "data": {
      "image/png": "[encoded data removed]",
      "text/plain": [
       "<Figure size 432x288 with 1 Axes>"
      ]
     },
     "metadata": {
      "needs_background": "light"
     },
     "output_type": "display_data"
    }
   ],
   "source": [
    "plt.plot( Vp1_Array , np.real(Vb_ana_A),'r')\n",
    "plt.ylabel('barV')\n",
    "plt.show()\n",
    "plt.close()"
   ]
  },
  {
   "cell_type": "markdown",
   "metadata": {},
   "source": [
    "### References"
   ]
  },
  {
   "cell_type": "markdown",
   "metadata": {},
   "source": [
    "1. Kastoryano, Michael J., and Mark S. Rudner. \"Topological transport in the steady state of a quantum particle with dissipation.\" Physical Review B 99.12 (2019): 125118. (https://journals.aps.org/prb/abstract/10.1103/PhysRevB.99.125118)"
   ]
  },
  {
   "cell_type": "code",
   "execution_count": 20,
   "metadata": {},
   "outputs": [
    {
     "name": "stdout",
     "output_type": "stream",
     "text": [
      "\n",
      "QuTiP: Quantum Toolbox in Python\n",
      "================================\n",
      "Copyright (c) QuTiP team 2011 and later.\n",
      "Original developers: R. J. Johansson & P. D. Nation.\n",
      "Current admin team: Alexander Pitchford, Paul D. Nation, Nathan Shammah, Shahnawaz Ahmed, Neill Lambert, and Eric Giguère.\n",
      "Project Manager: Franco Nori.\n",
      "Currently developed through wide collaboration. See https://github.com/qutip for details.\n",
      "\n",
      "QuTiP Version:      4.5.0.dev0+c8074e5\n",
      "Numpy Version:      1.15.2\n",
      "Scipy Version:      1.1.0\n",
      "Cython Version:     0.28.5\n",
      "Matplotlib Version: 3.0.0\n",
      "Python Version:     3.5.4\n",
      "Number of CPUs:     2\n",
      "BLAS Info:          INTEL MKL\n",
      "OPENMP Installed:   True\n",
      "INTEL MKL Ext:      True\n",
      "Platform Info:      Linux (x86_64)\n",
      "Installation path:  /home/ssaumya7/Desktop/GSOC/Aug5/qutip/qutip\n",
      "==============================================================================\n",
      "Please cite QuTiP in your publication.\n",
      "==============================================================================\n",
      "For your convenience a bibtex reference can be easily generated using `qutip.cite()`\n"
     ]
    }
   ],
   "source": [
    "qutip.about()"
   ]
  },
  {
   "cell_type": "code",
   "execution_count": 21,
   "metadata": {},
   "outputs": [
    {
     "name": "stdout",
     "output_type": "stream",
     "text": [
      "@article{qutip2,\n",
      "doi = {10.1016/j.cpc.2012.11.019},\n",
      "url = {https://doi.org/10.1016/j.cpc.2012.11.019},\n",
      "year  = {2013},\n",
      "month = {apr},\n",
      "publisher = {Elsevier {BV}},\n",
      "volume = {184},\n",
      "number = {4},\n",
      "pages = {1234--1240},\n",
      "author = {J.R. Johansson and P.D. Nation and F. Nori},\n",
      "title = {{QuTiP} 2: A {P}ython framework for the dynamics of open quantum systems},\n",
      "journal = {Computer Physics Communications}\n",
      "}\n",
      "@article{qutip1,\n",
      "doi = {10.1016/j.cpc.2012.02.021},\n",
      "url = {https://doi.org/10.1016/j.cpc.2012.02.021},\n",
      "year  = {2012},\n",
      "month = {aug},\n",
      "publisher = {Elsevier {BV}},\n",
      "volume = {183},\n",
      "number = {8},\n",
      "pages = {1760--1772},\n",
      "author = {J.R. Johansson and P.D. Nation and F. Nori},\n",
      "title = {{QuTiP}: An open-source {P}ython framework for the dynamics of open quantum systems},\n",
      "journal = {Computer Physics Communications}\n",
      "}\n"
     ]
    }
   ],
   "source": [
    "qutip.cite()"
   ]
  }
 ],
 "metadata": {
  "kernelspec": {
   "display_name": "Python 3",
   "language": "python",
   "name": "python3"
  },
  "language_info": {
   "codemirror_mode": {
    "name": "ipython",
    "version": 3
   },
   "file_extension": ".py",
   "mimetype": "text/x-python",
   "name": "python",
   "nbconvert_exporter": "python",
   "pygments_lexer": "ipython3",
   "version": "3.6.13"
  }
 },
 "nbformat": 4,
 "nbformat_minor": 2
}
