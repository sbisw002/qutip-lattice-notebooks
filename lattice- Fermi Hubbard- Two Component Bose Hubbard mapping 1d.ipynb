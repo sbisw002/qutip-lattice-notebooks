{
 "cells": [
  {
   "cell_type": "markdown",
   "metadata": {},
   "source": [
    "# One Dimensional Fermi -Boson map with QuTiP: Introduction"
   ]
  },
  {
   "cell_type": "markdown",
   "metadata": {},
   "source": [
    "Saumya Biswas (sbiswas4@umd.edu)\n",
    "\n",
    "For more information about QuTiP see [http://qutip.org](http://qutip.org)\n",
    "\n",
    "We introduce the basic functionality of QuTiPs Lattice1d class of the lattice module."
   ]
  },
  {
   "cell_type": "markdown",
   "metadata": {},
   "source": [
    "# About\n",
    "\n",
    "The qutip.lattice module enables defining tight binding/lattice models for bosons and fermions on lattices and calculating their fundamental properties specially features arising from the translational symmetry of the lattice. The lattice classes defined are compatible with the rest of the functionalities of QuTiP and can make use of them quite conveniently."
   ]
  },
  {
   "cell_type": "markdown",
   "metadata": {},
   "source": [
    "## Multiparticle physics"
   ]
  },
  {
   "cell_type": "markdown",
   "metadata": {},
   "source": [
    "Lattice1d_f_Hubbard class deals with multi-particle physics of spin-$1/2$ electrons with the Fermi Hubbard model."
   ]
  },
  {
   "cell_type": "markdown",
   "metadata": {},
   "source": [
    "![title](images/latt_1.png)\n",
    "\n",
    "## The Fermi-Hubbard model\n",
    "Defining an instance of the Lattice1d class requires formatting the second Quantized Hamiltonian in a unitcell based structure with nearest neighbor coupling only. Howewver, the functionality is limited to single particle physics only in Lattice1d class methods.\n",
    "\n",
    "\\begin{eqnarray}\n",
    "H = \\sum_{j, \\sigma} (\\epsilon - \\mu) c_{j,\\sigma}^{\\dagger} c_{j,\\sigma} + \\sum_{\\langle j,k \\rangle,\\sigma} t_{j,k} c_{j,\\sigma}^{\\dagger} c_{k,\\sigma} + U\\sum_j c_{j,\\uparrow}^{\\dagger} c_{j,\\downarrow}^{\\dagger} c_{j,\\downarrow} c_{j,\\uparrow}  \\label{eq:FermiHubbard} \n",
    "\\end{eqnarray}\n",
    "\n",
    "where $c_i$ is the fermionic annihilation operator, $t_{j,k}$ is the nearest neighbour hopping. "
   ]
  },
  {
   "cell_type": "markdown",
   "metadata": {},
   "source": [
    "The Lattice1d_f_Hubbard class defines a 1d Fermi Hubbard model with nearest neighbor hopping t and interaction strength U."
   ]
  },
  {
   "cell_type": "markdown",
   "metadata": {},
   "source": [
    "## How to Define a One Dimensional Fermi Hubbard Model"
   ]
  },
  {
   "cell_type": "code",
   "execution_count": 1,
   "metadata": {},
   "outputs": [],
   "source": [
    "from qutip import (Qobj, tensor, basis, qeye, isherm, sigmax, sigmay, sigmaz, sigmam, sigmap, num,\n",
    "                   create, destroy, mesolve, Options)\n",
    "from qutip_lattice import *\n",
    "import matplotlib.pyplot as plt\n",
    "import numpy as np"
   ]
  },
  {
   "cell_type": "markdown",
   "metadata": {},
   "source": [
    "## Conventions and Notations"
   ]
  },
  {
   "cell_type": "markdown",
   "metadata": {},
   "source": [
    "Fermionic wavefunctions are written out in the basis with a fixed number of particles, $N = N_{\\uparrow}+N_{\\downarrow}$\n",
    "\n",
    "\\begin{eqnarray}\n",
    "| \\Psi_F \\rangle = \\sum_{x,y} w_F(x,y) |\\bf{x}, \\bf{y} \\rangle\n",
    "\\end{eqnarray}\n",
    "Here, $\\bf{x}=(x_1,x_2,....,x_{N_{\\uparrow}} )$ and $\\bf{y}=(y_1,y_2,....,y_{N_{\\downarrow}} )$ indicate the sites occupied respectively by the spin-up and spin-down ($spin-\\frac{1}{2}$) fermions and $ x_i \\neq x_j, y_i\\neq y_j \\forall i,j$. Basis states are normal ordered. The definition is,\n",
    "\\begin{eqnarray}\n",
    "|x, y \\rangle = f^{\\dagger}_{x_1,\\uparrow}f^{\\dagger}_{x_2,\\uparrow}....f^{\\dagger}_{x_{N_{\\uparrow}} ,\\uparrow}f^{\\dagger}_{y_1,\\downarrow}f^{\\dagger}_{y_2,\\downarrow}....f^{\\dagger}_{y_{N_{\\downarrow}},\\downarrow} | vac \\rangle\n",
    "\\end{eqnarray}\n",
    "So, the down-spin creation operators act first in the order of decreasing positional index, then the up-spin creation operators in the same style.\n",
    "\n"
   ]
  },
  {
   "cell_type": "markdown",
   "metadata": {},
   "source": [
    "The off-diagonal elements arising from the Hamiltonian nearest neighbour hopping term $(-t) f^{\\dagger}_{x_{a},\\uparrow} f_{x_{a+1},\\uparrow}$ is nonzero only between, \n",
    "\\begin{eqnarray}\n",
    "\\langle x^f, y^f | = \\langle vac | f_{y_{N_{\\downarrow}}, \\downarrow}....f_{y_2,\\downarrow}f_{y_1,\\downarrow} f_{x_{N_{\\uparrow}},\\uparrow} ..f_{x_a,\\uparrow}.. f_{x_2,\\uparrow}f_{x_1,\\uparrow}  \n",
    "\\end{eqnarray}\n",
    "and\n",
    "\\begin{eqnarray}\n",
    "|x, y \\rangle = f^{\\dagger}_{x_1,\\uparrow}f^{\\dagger}_{x_2,\\uparrow}..f^{\\dagger}_{x_{a+1},\\uparrow}..f^{\\dagger}_{x_{N_{\\uparrow}} ,\\uparrow}f^{\\dagger}_{y_1,\\downarrow}f^{\\dagger}_{y_2,\\downarrow}....f^{\\dagger}_{y_{N_{\\downarrow}},\\downarrow} | vac \\rangle\n",
    "\\end{eqnarray}\n",
    "i.e. they would have all the same spin occupied positions except for $x_a$ and $x_{a+1}$. Only $\\langle x^f, y^f |$ will have $x_a$ and only $|x, y \\rangle$ will have $x_{a+1}$.\n",
    "\n"
   ]
  },
  {
   "cell_type": "markdown",
   "metadata": {},
   "source": [
    "\\begin{eqnarray}\n",
    "\\langle vac | f_{y^{f}_{N_{\\downarrow}},\\downarrow }...... f_{y^{f}_2,\\downarrow}f_{y^{f}_1,\\downarrow} f_{x^{f}_{N_{\\uparrow}},\\uparrow}..f_{x^{f}_{a},\\uparrow}... f_{x^{f}_2,\\uparrow}f_{x^{f}_1,\\uparrow} \\ \\ \\ \\ \\ \\ (-t) f^{\\dagger}_{x_{a},\\uparrow} f_{x_{a+1},\\uparrow} \\ \\ \\ \\ \\ \\ f^{\\dagger}_{x_1,\\uparrow}f^{\\dagger}_{x_2,\\uparrow}..f^{\\dagger}_{x_{a+1},\\uparrow}..f^{\\dagger}_{x_{N_{\\uparrow}}}f^{\\dagger}_{y_1,\\downarrow}f^{\\dagger}_{y_2,\\downarrow}....f^{\\dagger}_{y_{N_{\\downarrow}}} | vac \\rangle \\nonumber\\\\\n",
    "=(-1)^{a}\\langle vac | f_{y^{f}_{N_{\\downarrow}},\\downarrow }...... f_{y^{f}_2,\\downarrow}f_{y^{f}_1,\\downarrow} f_{x^{f}_{N_{\\uparrow}},\\uparrow}..f_{x^{f}_{a},\\uparrow}... f_{x^{f}_2,\\uparrow}f_{x^{f}_1,\\uparrow} \\ \\ \\ \\ \\ \\ (-t) f^{\\dagger}_{x_a,\\uparrow}  \\ \\ \\ \\ \\ \\ f^{\\dagger}_{x_1,\\uparrow}f^{\\dagger}_{x_2,\\uparrow}.. f_{x_{a+1},\\uparrow}f^{\\dagger}_{x_{a+1},\\uparrow}..f^{\\dagger}_{x_{N_{\\uparrow}}}f^{\\dagger}_{y_1,\\downarrow}f^{\\dagger}_{y_2,\\downarrow}....f^{\\dagger}_{y_{N_{\\downarrow}}} | vac \\rangle \\nonumber\\\\\n",
    "=(-1)^{a}\\langle vac | f_{y^{f}_{N_{\\downarrow}},\\downarrow }...... f_{y^{f}_2,\\downarrow}f_{y^{f}_1,\\downarrow} f_{x^{f}_{N_{\\uparrow}},\\uparrow}..f_{x^{f}_{a},\\uparrow}... f_{x^{f}_2,\\uparrow}f_{x^{f}_1,\\uparrow} \\ \\ \\ \\ \\ \\ (-t)f^{\\dagger}_{x_a,\\uparrow}  \\ \\ \\ \\ \\ \\ f^{\\dagger}_{x_1,\\uparrow}f^{\\dagger}_{x_2,\\uparrow}.. \\left(1-f^{\\dagger}_{x_{a+1},\\uparrow}f_{x_{a+1},\\uparrow}\\right) ...f^{\\dagger}_{x_{N_{\\uparrow}}}f^{\\dagger}_{y_1,\\downarrow}f^{\\dagger}_{y_2,\\downarrow}....f^{\\dagger}_{y_{N_{\\downarrow}}} | vac \\rangle \\nonumber\\\\\n",
    "=(-1)^{2a}\\langle vac | f_{y^{f}_{N_{\\downarrow}},\\downarrow }...... f_{y^{f}_2,\\downarrow}f_{y^{f}_1,\\downarrow} f_{x^{f}_{N_{\\uparrow}},\\uparrow}..f_{x^{f}_{a},\\uparrow}... f_{x^{f}_2,\\uparrow}f_{x^{f}_1,\\uparrow} \\ \\ \\ \\ \\ \\ (-t)  \\ \\ \\ \\ \\ \\ f^{\\dagger}_{x_1,\\uparrow}f^{\\dagger}_{x_2,\\uparrow}..f^{\\dagger}_{x_{a},\\uparrow}\\left(1-f^{\\dagger}_{x_{a+1},\\uparrow}f_{x_{a+1},\\uparrow}\\right)..f^{\\dagger}_{x_{N_{\\uparrow}}}f^{\\dagger}_{y_1,\\downarrow}f^{\\dagger}_{y_2,\\downarrow}....f^{\\dagger}_{y_{N_{\\downarrow}}} | vac \\rangle \\nonumber\\\\\n",
    "=\\langle vac | f_{y^{f}_{N_{\\downarrow}},\\downarrow }...... f_{y^{f}_2,\\downarrow}f_{y^{f}_1,\\downarrow} f_{x^{f}_{N_{\\uparrow}},\\uparrow}..f_{x^{f}_{a},\\uparrow}... f_{x^{f}_2,\\uparrow}f_{x^{f}_1,\\uparrow} \\ \\ \\ \\ \\ \\ (-t)  \\ \\ \\ \\ \\ \\ f^{\\dagger}_{x_1,\\uparrow}f^{\\dagger}_{x_2,\\uparrow}..f^{\\dagger}_{x_{a},\\uparrow}..f^{\\dagger}_{x_{N_{\\uparrow}}}f^{\\dagger}_{y_1,\\downarrow}f^{\\dagger}_{y_2,\\downarrow}....f^{\\dagger}_{y_{N_{\\downarrow}}} | vac \\rangle \\nonumber\\\\\n",
    "=(-t)\n",
    "\\end{eqnarray}\n",
    "In deriving the above, $f_{x_{a+1},\\uparrow}f^{\\dagger}_{x_{a+1},\\uparrow} = \\{f_{x_{a+1},\\uparrow},f^{\\dagger}_{x_{a+1},\\uparrow} \\}-f^{\\dagger}_{x_{a+1},\\uparrow}f_{x_{a+1},\\uparrow}$ was used.\n",
    "\n",
    "\n",
    "\n"
   ]
  },
  {
   "cell_type": "markdown",
   "metadata": {},
   "source": [
    "## Particle number symmetric basis: Fermions"
   ]
  },
  {
   "cell_type": "code",
   "execution_count": 2,
   "metadata": {},
   "outputs": [],
   "source": [
    "fermiHubbardLattice = Lattice1d_fermi_Hubbard( num_sites=4, boundary=\"aperiodic\", t=1, U=-2)\n",
    "[Hamiltonian_f, basisStatesUp_f, basisStatesDown_f, normHubbardStates_f] = fermiHubbardLattice.Hamiltonian( fillingUp=2, fillingDown=2, kval=None)"
   ]
  },
  {
   "cell_type": "code",
   "execution_count": 3,
   "metadata": {},
   "outputs": [
    {
     "data": {
      "text/plain": [
       "[array([[0., 0., 1., 1.],\n",
       "        [0., 1., 0., 1.],\n",
       "        [0., 1., 1., 0.],\n",
       "        [1., 0., 0., 1.],\n",
       "        [1., 0., 1., 0.],\n",
       "        [1., 1., 0., 0.]]),\n",
       " array([[0., 0., 1., 1.],\n",
       "        [0., 1., 0., 1.],\n",
       "        [0., 1., 1., 0.],\n",
       "        [1., 0., 0., 1.],\n",
       "        [1., 0., 1., 0.],\n",
       "        [1., 1., 0., 0.]])]"
      ]
     },
     "execution_count": 3,
     "metadata": {},
     "output_type": "execute_result"
    }
   ],
   "source": [
    "[basisStatesUp_f,basisStatesDown_f]"
   ]
  },
  {
   "cell_type": "markdown",
   "metadata": {},
   "source": [
    "All the operators computed are in the chosen basis with number and translational symmetry labeled by number and k-value."
   ]
  },
  {
   "cell_type": "code",
   "execution_count": 4,
   "metadata": {},
   "outputs": [
    {
     "data": {
      "text/latex": [
       "Quantum object: dims = [[36], [36]], shape = (36, 36), type = oper, isherm = True\\begin{equation*}\\left(\\begin{array}{*{11}c}2.0 & -1.0 & 0.0 & 0.0 & 0.0 & \\cdots & 0.0 & 0.0 & 0.0 & 0.0 & 0.0\\\\-1.0 & 3.0 & -1.0 & -1.0 & 0.0 & \\cdots & 0.0 & 0.0 & 0.0 & 0.0 & 0.0\\\\0.0 & -1.0 & 0.500 & 0.0 & -1.0 & \\cdots & 0.0 & 0.0 & 0.0 & 0.0 & 0.0\\\\0.0 & -1.0 & 0.0 & 4.500 & -1.0 & \\cdots & 0.0 & 0.0 & 0.0 & 0.0 & 0.0\\\\0.0 & 0.0 & -1.0 & -1.0 & 1.0 & \\cdots & 0.0 & 0.0 & 0.0 & 0.0 & 0.0\\\\\\vdots & \\vdots & \\vdots & \\vdots & \\vdots & \\ddots & \\vdots & \\vdots & \\vdots & \\vdots & \\vdots\\\\0.0 & 0.0 & 0.0 & 0.0 & 0.0 & \\cdots & 1.0 & -1.0 & -1.0 & 0.0 & 0.0\\\\0.0 & 0.0 & 0.0 & 0.0 & 0.0 & \\cdots & -1.0 & 4.500 & 0.0 & -1.0 & 0.0\\\\0.0 & 0.0 & 0.0 & 0.0 & 0.0 & \\cdots & -1.0 & 0.0 & 0.500 & -1.0 & 0.0\\\\0.0 & 0.0 & 0.0 & 0.0 & 0.0 & \\cdots & 0.0 & -1.0 & -1.0 & 3.0 & -1.0\\\\0.0 & 0.0 & 0.0 & 0.0 & 0.0 & \\cdots & 0.0 & 0.0 & 0.0 & -1.0 & 2.0\\\\\\end{array}\\right)\\end{equation*}"
      ],
      "text/plain": [
       "Quantum object: dims = [[36], [36]], shape = (36, 36), type = oper, isherm = True\n",
       "Qobj data =\n",
       "[[ 2.  -1.   0.  ...  0.   0.   0. ]\n",
       " [-1.   3.  -1.  ...  0.   0.   0. ]\n",
       " [ 0.  -1.   0.5 ...  0.   0.   0. ]\n",
       " ...\n",
       " [ 0.   0.   0.  ...  0.5 -1.   0. ]\n",
       " [ 0.   0.   0.  ... -1.   3.  -1. ]\n",
       " [ 0.   0.   0.  ...  0.  -1.   2. ]]"
      ]
     },
     "execution_count": 4,
     "metadata": {},
     "output_type": "execute_result"
    }
   ],
   "source": [
    "Hamiltonian_f"
   ]
  },
  {
   "cell_type": "markdown",
   "metadata": {},
   "source": [
    "## Particle Number Symmetric Basis: Bosons"
   ]
  },
  {
   "cell_type": "code",
   "execution_count": 5,
   "metadata": {},
   "outputs": [],
   "source": [
    "bose2cHubbardLattice = Lattice1d_2c_hcb_Hubbard( num_sites=4, boundary=\"aperiodic\", t=1, Uab=-2)\n",
    "[Hamiltonian_hcb, basisReprUp_hcb, DownStatesPerRepr_hcb, normHubbardStates_hcb] = bose2cHubbardLattice.Hamiltonian( fillingUp=2, fillingDown=2, kval=None)"
   ]
  },
  {
   "cell_type": "code",
   "execution_count": 6,
   "metadata": {},
   "outputs": [
    {
     "data": {
      "text/latex": [
       "Quantum object: dims = [[36], [36]], shape = (36, 36), type = oper, isherm = True\\begin{equation*}\\left(\\begin{array}{*{11}c}-4.0 & -1.0 & 0.0 & 0.0 & 0.0 & \\cdots & 0.0 & 0.0 & 0.0 & 0.0 & 0.0\\\\-1.0 & -2.0 & -1.0 & -1.0 & 0.0 & \\cdots & 0.0 & 0.0 & 0.0 & 0.0 & 0.0\\\\0.0 & -1.0 & -2.0 & 0.0 & -1.0 & \\cdots & 0.0 & 0.0 & 0.0 & 0.0 & 0.0\\\\0.0 & -1.0 & 0.0 & -2.0 & -1.0 & \\cdots & 0.0 & 0.0 & 0.0 & 0.0 & 0.0\\\\0.0 & 0.0 & -1.0 & -1.0 & -2.0 & \\cdots & 0.0 & 0.0 & 0.0 & 0.0 & 0.0\\\\\\vdots & \\vdots & \\vdots & \\vdots & \\vdots & \\ddots & \\vdots & \\vdots & \\vdots & \\vdots & \\vdots\\\\0.0 & 0.0 & 0.0 & 0.0 & 0.0 & \\cdots & -2.0 & -1.0 & -1.0 & 0.0 & 0.0\\\\0.0 & 0.0 & 0.0 & 0.0 & 0.0 & \\cdots & -1.0 & -2.0 & 0.0 & -1.0 & 0.0\\\\0.0 & 0.0 & 0.0 & 0.0 & 0.0 & \\cdots & -1.0 & 0.0 & -2.0 & -1.0 & 0.0\\\\0.0 & 0.0 & 0.0 & 0.0 & 0.0 & \\cdots & 0.0 & -1.0 & -1.0 & -2.0 & -1.0\\\\0.0 & 0.0 & 0.0 & 0.0 & 0.0 & \\cdots & 0.0 & 0.0 & 0.0 & -1.0 & -4.0\\\\\\end{array}\\right)\\end{equation*}"
      ],
      "text/plain": [
       "Quantum object: dims = [[36], [36]], shape = (36, 36), type = oper, isherm = True\n",
       "Qobj data =\n",
       "[[-4. -1.  0. ...  0.  0.  0.]\n",
       " [-1. -2. -1. ...  0.  0.  0.]\n",
       " [ 0. -1. -2. ...  0.  0.  0.]\n",
       " ...\n",
       " [ 0.  0.  0. ... -2. -1.  0.]\n",
       " [ 0.  0.  0. ... -1. -2. -1.]\n",
       " [ 0.  0.  0. ...  0. -1. -4.]]"
      ]
     },
     "execution_count": 6,
     "metadata": {},
     "output_type": "execute_result"
    }
   ],
   "source": [
    "Hamiltonian_hcb"
   ]
  },
  {
   "cell_type": "markdown",
   "metadata": {},
   "source": [
    "## Spectral Equivalence"
   ]
  },
  {
   "cell_type": "markdown",
   "metadata": {},
   "source": [
    "The number of rows in basisReprUp denotes the number of spin-up bases and each row is appended with each rows of the corresponding matrix in DownStatesPerRepr for a basis vector with approved k-value."
   ]
  },
  {
   "cell_type": "code",
   "execution_count": 7,
   "metadata": {},
   "outputs": [
    {
     "data": {
      "text/plain": [
       "array([-3.81377944, -3.32137492, -1.5300261 , -1.32853062, -1.20665208,\n",
       "       -0.86016744, -0.51307963, -0.45558825,  0.04537272,  0.45084258,\n",
       "        0.69188281,  0.90731185,  1.02943507,  1.03414965,  1.08457735,\n",
       "        1.44056612,  1.74583095,  1.78674552,  1.9953164 ,  2.25153967,\n",
       "        2.49607244,  2.62628659,  3.157936  ,  3.46629114,  3.57590798,\n",
       "        3.62960444,  4.        ,  4.35810133,  4.67710819,  4.70084224,\n",
       "        4.94366805,  5.20651273,  5.3693757 ,  5.54572419,  6.07460557,\n",
       "        6.73759121])"
      ]
     },
     "execution_count": 7,
     "metadata": {},
     "output_type": "execute_result"
    }
   ],
   "source": [
    "Hamiltonian_f.eigenenergies()"
   ]
  },
  {
   "cell_type": "markdown",
   "metadata": {},
   "source": [
    "normHubbard states are the corresponding normalized states."
   ]
  },
  {
   "cell_type": "code",
   "execution_count": 8,
   "metadata": {},
   "outputs": [
    {
     "data": {
      "text/plain": [
       "array([-6.87594281e+00, -6.08715446e+00, -5.32340428e+00, -5.02516861e+00,\n",
       "       -4.81974075e+00, -4.48088523e+00, -4.23606798e+00, -4.00000000e+00,\n",
       "       -4.00000000e+00, -3.68133064e+00, -3.52111856e+00, -3.00000000e+00,\n",
       "       -3.00000000e+00, -2.82169397e+00, -2.44772352e+00, -2.35792637e+00,\n",
       "       -2.27117635e+00, -2.00000000e+00, -2.00000000e+00, -1.72882365e+00,\n",
       "       -1.64207363e+00, -1.55227648e+00, -1.17830603e+00, -1.00000000e+00,\n",
       "       -1.00000000e+00, -4.78881440e-01, -3.18669356e-01, -6.42457039e-16,\n",
       "       -5.10523546e-16,  2.36067977e-01,  4.80885229e-01,  8.19740752e-01,\n",
       "        1.02516861e+00,  1.32340428e+00,  2.08715446e+00,  2.87594281e+00])"
      ]
     },
     "execution_count": 8,
     "metadata": {},
     "output_type": "execute_result"
    }
   ],
   "source": [
    "Hamiltonian_hcb.eigenenergies()"
   ]
  },
  {
   "cell_type": "markdown",
   "metadata": {},
   "source": [
    "Setting any argument to None gives a basis does not make use of that symmetry."
   ]
  },
  {
   "cell_type": "markdown",
   "metadata": {},
   "source": [
    "## boson-fermion mapping"
   ]
  },
  {
   "cell_type": "code",
   "execution_count": 9,
   "metadata": {},
   "outputs": [],
   "source": [
    "states_hcb = Hamiltonian_hcb.eigenstates()\n",
    "states_f = Hamiltonian_f.eigenstates()"
   ]
  },
  {
   "cell_type": "markdown",
   "metadata": {},
   "source": [
    "Setting any argument to None gives a basis does not make use of that symmetry."
   ]
  },
  {
   "cell_type": "code",
   "execution_count": 10,
   "metadata": {},
   "outputs": [
    {
     "data": {
      "text/plain": [
       "0.9073118461045251"
      ]
     },
     "execution_count": 10,
     "metadata": {},
     "output_type": "execute_result"
    }
   ],
   "source": [
    "states_f[0][11]"
   ]
  },
  {
   "cell_type": "code",
   "execution_count": 11,
   "metadata": {},
   "outputs": [
    {
     "data": {
      "text/plain": [
       "-2.9999999999999916"
      ]
     },
     "execution_count": 11,
     "metadata": {},
     "output_type": "execute_result"
    }
   ],
   "source": [
    "states_hcb[0][12]"
   ]
  },
  {
   "cell_type": "code",
   "execution_count": 12,
   "metadata": {},
   "outputs": [],
   "source": [
    "wF = states_f[1][11]"
   ]
  },
  {
   "cell_type": "code",
   "execution_count": 13,
   "metadata": {},
   "outputs": [],
   "source": [
    "wB = states_hcb[1][12]"
   ]
  },
  {
   "cell_type": "code",
   "execution_count": 14,
   "metadata": {},
   "outputs": [
    {
     "data": {
      "image/png": "[encoded data removed]",
      "text/plain": [
       "<Figure size 432x288 with 1 Axes>"
      ]
     },
     "metadata": {
      "needs_background": "light"
     },
     "output_type": "display_data"
    }
   ],
   "source": [
    "xarr = np.arange(0,36)\n",
    "plt.plot(xarr, np.real(wF))\n",
    "plt.plot(xarr, np.imag(wF))\n",
    "plt.xlabel('Time', fontsize=14)\n",
    "plt.ylabel(r'$\\langle k \\rangle$', fontsize=14)\n",
    "#plt.ylim([-1e-8, 1e-8])\n",
    "plt.show()\n",
    "plt.close()"
   ]
  },
  {
   "cell_type": "code",
   "execution_count": 15,
   "metadata": {},
   "outputs": [
    {
     "data": {
      "image/png": "[encoded data removed]",
      "text/plain": [
       "<Figure size 432x288 with 1 Axes>"
      ]
     },
     "metadata": {
      "needs_background": "light"
     },
     "output_type": "display_data"
    }
   ],
   "source": [
    "xars = np.arange(0,36)\n",
    "plt.plot(xars, np.real(wB))\n",
    "plt.plot(xars, np.imag(wB))\n",
    "plt.xlabel('Time', fontsize=14)\n",
    "plt.ylabel(r'$\\langle k \\rangle$', fontsize=14)\n",
    "#plt.ylim([-1e-8, 1e-8])\n",
    "plt.show()\n",
    "plt.close()"
   ]
  },
  {
   "cell_type": "markdown",
   "metadata": {},
   "source": [
    "## Particle number symmetric basis: Fermions"
   ]
  },
  {
   "cell_type": "code",
   "execution_count": 16,
   "metadata": {},
   "outputs": [],
   "source": [
    "fermiHubbardLattice = Lattice1d_fermi_Hubbard( num_sites=4, boundary=\"periodic\", t=1, U=-2)\n",
    "[Hamiltonian_f, basisReprUp_f, DownStatesPerRepr_f, normHubbardStates_f] = fermiHubbardLattice.Hamiltonian( fillingUp=None, fillingDown=None, kval=None)"
   ]
  },
  {
   "cell_type": "markdown",
   "metadata": {},
   "source": [
    "All the operators computed are in the chosen basis with number and translational symmetry labeled by number and k-value."
   ]
  },
  {
   "cell_type": "code",
   "execution_count": 17,
   "metadata": {},
   "outputs": [
    {
     "data": {
      "text/latex": [
       "Quantum object: dims = [[256], [256]], shape = (256, 256), type = oper, isherm = True\\begin{equation*}\\left(\\begin{array}{*{11}c}0.0 & 0.0 & 0.0 & 0.0 & 0.0 & \\cdots & 0.0 & 0.0 & 0.0 & 0.0 & 0.0\\\\0.0 & 1.0 & -1.0 & 0.0 & 0.0 & \\cdots & 0.0 & 0.0 & 0.0 & 0.0 & 0.0\\\\0.0 & -1.0 & 1.0 & 0.0 & -1.0 & \\cdots & 0.0 & 0.0 & 0.0 & 0.0 & 0.0\\\\0.0 & 0.0 & 0.0 & 3.0 & 0.0 & \\cdots & 0.0 & 0.0 & 0.0 & 0.0 & 0.0\\\\0.0 & 0.0 & -1.0 & 0.0 & 1.0 & \\cdots & 0.0 & 0.0 & 0.0 & 0.0 & 0.0\\\\\\vdots & \\vdots & \\vdots & \\vdots & \\vdots & \\ddots & \\vdots & \\vdots & \\vdots & \\vdots & \\vdots\\\\0.0 & 0.0 & 0.0 & 0.0 & 0.0 & \\cdots & 5.0 & 0.0 & -1.0 & 0.0 & 0.0\\\\0.0 & 0.0 & 0.0 & 0.0 & 0.0 & \\cdots & 0.0 & 3.0 & 0.0 & 0.0 & 0.0\\\\0.0 & 0.0 & 0.0 & 0.0 & 0.0 & \\cdots & -1.0 & 0.0 & 5.0 & -1.0 & 0.0\\\\0.0 & 0.0 & 0.0 & 0.0 & 0.0 & \\cdots & 0.0 & 0.0 & -1.0 & 5.0 & 0.0\\\\0.0 & 0.0 & 0.0 & 0.0 & 0.0 & \\cdots & 0.0 & 0.0 & 0.0 & 0.0 & 8.0\\\\\\end{array}\\right)\\end{equation*}"
      ],
      "text/plain": [
       "Quantum object: dims = [[256], [256]], shape = (256, 256), type = oper, isherm = True\n",
       "Qobj data =\n",
       "[[ 0.  0.  0. ...  0.  0.  0.]\n",
       " [ 0.  1. -1. ...  0.  0.  0.]\n",
       " [ 0. -1.  1. ...  0.  0.  0.]\n",
       " ...\n",
       " [ 0.  0.  0. ...  5. -1.  0.]\n",
       " [ 0.  0.  0. ... -1.  5.  0.]\n",
       " [ 0.  0.  0. ...  0.  0.  8.]]"
      ]
     },
     "execution_count": 17,
     "metadata": {},
     "output_type": "execute_result"
    }
   ],
   "source": [
    "Hamiltonian_f"
   ]
  },
  {
   "cell_type": "markdown",
   "metadata": {},
   "source": [
    "## Particle Number Symmetric Basis: Bosons"
   ]
  },
  {
   "cell_type": "code",
   "execution_count": 18,
   "metadata": {},
   "outputs": [],
   "source": [
    "bose2cHubbardLattice = Lattice1d_2c_hcb_Hubbard( num_sites=4, boundary=\"periodic\", t=1, Uab=-2)\n",
    "[Hamiltonian_hcb, basisReprUp_hcb, DownStatesPerRepr_hcb, normHubbardStates_hcb] = bose2cHubbardLattice.Hamiltonian( fillingUp=None, fillingDown=None, kval=None)"
   ]
  },
  {
   "cell_type": "code",
   "execution_count": 19,
   "metadata": {},
   "outputs": [
    {
     "data": {
      "text/latex": [
       "Quantum object: dims = [[256], [256]], shape = (256, 256), type = oper, isherm = True\\begin{equation*}\\left(\\begin{array}{*{11}c}0.0 & 0.0 & 0.0 & 0.0 & 0.0 & \\cdots & 0.0 & 0.0 & 0.0 & 0.0 & 0.0\\\\0.0 & 0.0 & -1.0 & 0.0 & 0.0 & \\cdots & 0.0 & 0.0 & 0.0 & 0.0 & 0.0\\\\0.0 & -1.0 & 0.0 & 0.0 & -1.0 & \\cdots & 0.0 & 0.0 & 0.0 & 0.0 & 0.0\\\\0.0 & 0.0 & 0.0 & 0.0 & 0.0 & \\cdots & 0.0 & 0.0 & 0.0 & 0.0 & 0.0\\\\0.0 & 0.0 & -1.0 & 0.0 & 0.0 & \\cdots & 0.0 & 0.0 & 0.0 & 0.0 & 0.0\\\\\\vdots & \\vdots & \\vdots & \\vdots & \\vdots & \\ddots & \\vdots & \\vdots & \\vdots & \\vdots & \\vdots\\\\0.0 & 0.0 & 0.0 & 0.0 & 0.0 & \\cdots & -6.0 & 0.0 & -1.0 & 0.0 & 0.0\\\\0.0 & 0.0 & 0.0 & 0.0 & 0.0 & \\cdots & 0.0 & -4.0 & 0.0 & 0.0 & 0.0\\\\0.0 & 0.0 & 0.0 & 0.0 & 0.0 & \\cdots & -1.0 & 0.0 & -6.0 & -1.0 & 0.0\\\\0.0 & 0.0 & 0.0 & 0.0 & 0.0 & \\cdots & 0.0 & 0.0 & -1.0 & -6.0 & 0.0\\\\0.0 & 0.0 & 0.0 & 0.0 & 0.0 & \\cdots & 0.0 & 0.0 & 0.0 & 0.0 & -8.0\\\\\\end{array}\\right)\\end{equation*}"
      ],
      "text/plain": [
       "Quantum object: dims = [[256], [256]], shape = (256, 256), type = oper, isherm = True\n",
       "Qobj data =\n",
       "[[ 0.  0.  0. ...  0.  0.  0.]\n",
       " [ 0.  0. -1. ...  0.  0.  0.]\n",
       " [ 0. -1.  0. ...  0.  0.  0.]\n",
       " ...\n",
       " [ 0.  0.  0. ... -6. -1.  0.]\n",
       " [ 0.  0.  0. ... -1. -6.  0.]\n",
       " [ 0.  0.  0. ...  0.  0. -8.]]"
      ]
     },
     "execution_count": 19,
     "metadata": {},
     "output_type": "execute_result"
    }
   ],
   "source": [
    "Hamiltonian_hcb"
   ]
  },
  {
   "cell_type": "markdown",
   "metadata": {},
   "source": [
    "## Spectral Equivalence"
   ]
  },
  {
   "cell_type": "markdown",
   "metadata": {},
   "source": [
    "# Example: Symmetry protected Dynamics¶"
   ]
  },
  {
   "cell_type": "markdown",
   "metadata": {},
   "source": [
    "We now calculate a dynamics with loss operators and expectation values of given operators."
   ]
  },
  {
   "cell_type": "markdown",
   "metadata": {},
   "source": [
    "No specific physics conceived of in this exercise."
   ]
  },
  {
   "cell_type": "markdown",
   "metadata": {},
   "source": [
    "### References\n",
    "[1] J. R. Johansson, P. D. Nation, and F. Nori, Comp. Phys. Comm. 183, 1760 (2012). http://qutip.org \n",
    "\n",
    "[2] B. Paredes and J. I. Cirac. Phys. Rev. Lett. 90, 150402 (2003)\n",
    "https://journals.aps.org/prl/abstract/10.1103/PhysRevLett.90.150402"
   ]
  },
  {
   "cell_type": "code",
   "execution_count": null,
   "metadata": {},
   "outputs": [],
   "source": [
    "import qutip\n",
    "qutip.about()"
   ]
  },
  {
   "cell_type": "code",
   "execution_count": null,
   "metadata": {},
   "outputs": [],
   "source": [
    "qutip.cite()"
   ]
  }
 ],
 "metadata": {
  "kernelspec": {
   "display_name": "Python 3",
   "language": "python",
   "name": "python3"
  },
  "language_info": {
   "codemirror_mode": {
    "name": "ipython",
    "version": 3
   },
   "file_extension": ".py",
   "mimetype": "text/x-python",
   "name": "python",
   "nbconvert_exporter": "python",
   "pygments_lexer": "ipython3",
   "version": "3.6.13"
  }
 },
 "nbformat": 4,
 "nbformat_minor": 2
}
