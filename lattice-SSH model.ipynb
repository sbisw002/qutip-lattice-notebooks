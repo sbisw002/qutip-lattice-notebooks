{
 "cells": [
  {
   "cell_type": "markdown",
   "metadata": {},
   "source": [
    "# The Su-Schrieffer–Heeger (SSH) model"
   ]
  },
  {
   "cell_type": "markdown",
   "metadata": {},
   "source": [
    "Saumya Biswas (sbiswas4@umd.edu)"
   ]
  },
  {
   "cell_type": "markdown",
   "metadata": {},
   "source": [
    "The celebrated SSH model is analyzed with QuTiP's lattice module below."
   ]
  },
  {
   "cell_type": "markdown",
   "metadata": {},
   "source": [
    "![title](images/SSH_E.png)"
   ]
  },
  {
   "cell_type": "markdown",
   "metadata": {},
   "source": [
    "The above figure shows a SSH model with 6 sites with periodic boundary condition. The same lattice with hardwall/aperiodic boundary condition would be the folloowing.\n",
    "![title](images/SSH_Ea.png)"
   ]
  },
  {
   "cell_type": "markdown",
   "metadata": {},
   "source": [
    "In the secod quantized formalism, the periodic lattice Hamiltonian can be written as\n",
    "\\begin{eqnarray}\n",
    "H_{per} = -t_{intra} (c_{-2}^{\\dagger} c_{-1} + c_{-1}^{\\dagger} c_{-2} ) -t_{intra} (c_{0}^{\\dagger} c_{1} + c_{1}^{\\dagger} c_{0} ) -t_{intra} (c_{2}^{\\dagger} c_{3} + c_{3}^{\\dagger} c_{2} ) \\nonumber \\\\ \n",
    " -t_{inter} (c_{-1}^{\\dagger} c_{0} + c_{0}^{\\dagger} c_{-1} ) -t_{inter} (c_{1}^{\\dagger} c_{2} + c_{2}^{\\dagger} c_{1} ) -t_{inter} (c_{3}^{\\dagger} c_{-2} + c_{-2}^{\\dagger} c_{3} ) \\nonumber \n",
    "\\end{eqnarray}\n",
    "The aperiodic lattice Hamiltonian can be obtained by discarding the very last term.\n",
    "\\begin{eqnarray}\n",
    "H_{aper} = -t_{intra} (c_{-2}^{\\dagger} c_{-1} + c_{-1}^{\\dagger} c_{-2} ) -t_{intra} (c_{0}^{\\dagger} c_{1} + c_{1}^{\\dagger} c_{0} ) -t_{intra} (c_{2}^{\\dagger} c_{3} + c_{3}^{\\dagger} c_{2} ) \\nonumber \\\\ \n",
    " -t_{inter} (c_{-1}^{\\dagger} c_{0} + c_{0}^{\\dagger} c_{-1} ) -t_{inter} (c_{1}^{\\dagger} c_{2} + c_{2}^{\\dagger} c_{1} ) \\ \\ \\ \\ \\ \\ \\ \\ \\ \\ \\ \\ \\ \\ \\ \\ \\ \\ \\ \\ \\ \\ \\ \\ \\ \\ \\ \\ \\ \\ \\ \\ \\ \\ \\ \\ \\ \\nonumber \n",
    "\\end{eqnarray}"
   ]
  },
  {
   "cell_type": "markdown",
   "metadata": {},
   "source": [
    "The representation in terms of unit cell blocks become obvious once we resolve the terms into unit cell operators.\n",
    "\\begin{eqnarray}\n",
    "H_{per}= \\begin{bmatrix}\n",
    "    c_{-2}^{\\dagger} & c_{-1}^{\\dagger}       \n",
    "\\end{bmatrix} \n",
    "\\begin{bmatrix}\n",
    "      o     & -t_1 \\\\\n",
    "    -t_1    & 0 \n",
    "\\end{bmatrix}\n",
    "\\begin{bmatrix}\n",
    "    c_{-2}  \\\\\n",
    "    c_{-1}  \n",
    "\\end{bmatrix} + \n",
    "\\begin{bmatrix}\n",
    "    c_{0}^{\\dagger} & c_{1}^{\\dagger}       \n",
    "\\end{bmatrix} \n",
    "\\begin{bmatrix}\n",
    "      o     & -t_1 \\\\\n",
    "    -t_1    & 0 \n",
    "\\end{bmatrix}\n",
    "\\begin{bmatrix}\n",
    "    c_{0}  \\\\\n",
    "    c_{1}  \n",
    "\\end{bmatrix} \n",
    "\\nonumber \\\\\n",
    "+ \\begin{bmatrix}\n",
    "    c_{2}^{\\dagger} & c_{3}^{\\dagger}       \n",
    "\\end{bmatrix} \n",
    "\\begin{bmatrix}\n",
    "      o     & -t_1 \\\\\n",
    "    -t_1    & 0 \n",
    "\\end{bmatrix}\n",
    "\\begin{bmatrix}\n",
    "    c_{2}  \\\\\n",
    "    c_{3}  \n",
    "\\end{bmatrix} \\nonumber \\\\\n",
    "+ \\begin{bmatrix}\n",
    "    c_{-2}^{\\dagger} & c_{-1}^{\\dagger}       \n",
    "\\end{bmatrix} \n",
    "\\begin{bmatrix}\n",
    "      o     & 0 \\\\\n",
    "    -t_2    & 0 \n",
    "\\end{bmatrix}\n",
    "\\begin{bmatrix}\n",
    "    c_{0}  \\\\\n",
    "    c_{1}  \n",
    "\\end{bmatrix} + \n",
    "\\begin{bmatrix}\n",
    "    c_{0}^{\\dagger} & c_{1}^{\\dagger}       \n",
    "\\end{bmatrix} \n",
    "\\begin{bmatrix}\n",
    "      o     & -t_2 \\\\\n",
    "      0     & 0 \n",
    "\\end{bmatrix}\n",
    "\\begin{bmatrix}\n",
    "    c_{-2}  \\\\\n",
    "    c_{-1}  \n",
    "\\end{bmatrix} \n",
    "\\nonumber \\\\\n",
    "+ \\begin{bmatrix}\n",
    "    c_{0}^{\\dagger} & c_{1}^{\\dagger}       \n",
    "\\end{bmatrix} \n",
    "\\begin{bmatrix}\n",
    "      o     & 0 \\\\\n",
    "    -t_2    & 0 \n",
    "\\end{bmatrix}\n",
    "\\begin{bmatrix}\n",
    "    c_{2}  \\\\\n",
    "    c_{3}  \n",
    "\\end{bmatrix} + \n",
    "\\begin{bmatrix}\n",
    "    c_{2}^{\\dagger} & c_{3}^{\\dagger}       \n",
    "\\end{bmatrix} \n",
    "\\begin{bmatrix}\n",
    "      o     & -t_2 \\\\\n",
    "      0     & 0 \n",
    "\\end{bmatrix}\n",
    "\\begin{bmatrix}\n",
    "    c_{0}  \\\\\n",
    "    c_{1}  \n",
    "\\end{bmatrix} \n",
    "\\nonumber \\\\\n",
    "+ \\begin{bmatrix}\n",
    "    c_{2}^{\\dagger} & c_{3}^{\\dagger}       \n",
    "\\end{bmatrix} \n",
    "\\begin{bmatrix}\n",
    "      o     & 0 \\\\\n",
    "    -t_2    & 0 \n",
    "\\end{bmatrix}\n",
    "\\begin{bmatrix}\n",
    "    c_{-2}  \\\\\n",
    "    c_{-1}  \n",
    "\\end{bmatrix} + \n",
    "\\begin{bmatrix}\n",
    "    c_{-2}^{\\dagger} & c_{-1}^{\\dagger}       \n",
    "\\end{bmatrix} \n",
    "\\begin{bmatrix}\n",
    "      o     & -t_2 \\\\\n",
    "      0     & 0 \n",
    "\\end{bmatrix}\n",
    "\\begin{bmatrix}\n",
    "    c_{2}  \\\\\n",
    "    c_{3}  \n",
    "\\end{bmatrix} \\nonumber\n",
    "\\end{eqnarray}\n"
   ]
  },
  {
   "cell_type": "markdown",
   "metadata": {},
   "source": [
    "Hence, $H_{TB}$ can be succinctly put in the form:\n",
    "\\begin{eqnarray}\n",
    "H_{per/aper} = \\sum_i \\psi_i^{\\dagger} D \\psi_i + \\sum_{i} \\left( \\psi_i^{\\dagger} T \\psi_{i+1} +  \\psi_{i+1}^{\\dagger} T^{\\dagger} \\psi_i  \\right) \\label{eq:TB_block} \n",
    "\\end{eqnarray}\n",
    "where $D = \\begin{bmatrix}\n",
    "    0 & -t_{intra}  \\\\\n",
    "    -t_{intra} & 0  \n",
    "\\end{bmatrix}$ and $T = \\begin{bmatrix}\n",
    "    0 & 0  \\\\\n",
    "    -t_{inter} & 0  \n",
    "\\end{bmatrix}$. The $\\psi_i = \\begin{bmatrix}\n",
    "    c^0_{i}  \\\\\n",
    "    c^1_{i}  \n",
    "\\end{bmatrix}$ is associated with $\\vec{R}=\\vec{R}_i$ and $\\psi_{i+1}$ is associated with $\\vec{R}=\\vec{R}_i + \\hat{x}$, with $\\hat{x}$ being the unit vector along the x direction.\n",
    "\n",
    "The equation above can be put into the alternate form (also changing the summation variables to m,n to distinguish them from the imaginary i):\n",
    "\n",
    "\\begin{eqnarray}\n",
    "H_{per/aper} = \\sum_{m,n} \\psi_m^{\\dagger} (D \\delta_{m,n} + T \\delta_{m,n-1} + T^{\\dagger} \\delta_{m,n+1} ) \\psi_n \\label{eq:TB_block_1} \n",
    "\\end{eqnarray}\n",
    "\n"
   ]
  },
  {
   "cell_type": "markdown",
   "metadata": {},
   "source": [
    "So far, we have see that a SSH lattice can be put into the unit cell representations and the lattice can be completely defied with two matrices D and T. In declaring an instance of Qutip.lattice.Lattice1d we only need to input the two matrices. "
   ]
  },
  {
   "cell_type": "markdown",
   "metadata": {},
   "source": [
    "In declaring an instance of Lattice1d class, the two arguments cell_Hamiltonian\n",
    "and inter_hop are set to D and T respectively. The matrix structure of D and T can be\n",
    "obtained from the aide function cell_structures()."
   ]
  },
  {
   "cell_type": "code",
   "execution_count": 38,
   "metadata": {},
   "outputs": [],
   "source": [
    "from qutip import (Qobj, tensor, basis, qeye, isherm, sigmax, sigmay, sigmaz, sigmam, sigmap, num,\n",
    "                   create, destroy, mesolve, Options)\n",
    "from qutip_lattice import *\n",
    "import matplotlib.pyplot as plt\n",
    "import numpy as np"
   ]
  },
  {
   "cell_type": "code",
   "execution_count": 39,
   "metadata": {},
   "outputs": [],
   "source": [
    "val_s = ['site0','site1']\n",
    "(H_cell_form,T_inter_cell_form,H_cell,T_inter_cell) = cell_structures( val_s)"
   ]
  },
  {
   "cell_type": "code",
   "execution_count": 40,
   "metadata": {},
   "outputs": [
    {
     "data": {
      "text/plain": [
       "[['<site0 H site0>', '<site0 H site1>'],\n",
       " ['<site1 H site0>', '<site1 H site1>']]"
      ]
     },
     "execution_count": 40,
     "metadata": {},
     "output_type": "execute_result"
    }
   ],
   "source": [
    "H_cell_form"
   ]
  },
  {
   "cell_type": "code",
   "execution_count": 41,
   "metadata": {},
   "outputs": [
    {
     "data": {
      "text/plain": [
       "[['<cell(i):site0 H site0:cell(i+1) >', '<cell(i):site0 H site1:cell(i+1) >'],\n",
       " ['<cell(i):site1 H site0:cell(i+1) >', '<cell(i):site1 H site1:cell(i+1) >']]"
      ]
     },
     "execution_count": 41,
     "metadata": {},
     "output_type": "execute_result"
    }
   ],
   "source": [
    "T_inter_cell_form"
   ]
  },
  {
   "cell_type": "markdown",
   "metadata": {},
   "source": [
    "Guided by cell_H_form and inter_cell_T_form, we can set values to cell_H and inter_cell_T which were initialized to all zero elements by cell_structures()."
   ]
  },
  {
   "cell_type": "code",
   "execution_count": 42,
   "metadata": {},
   "outputs": [],
   "source": [
    "t_intra = -0.5\n",
    "t_inter = -0.5\n",
    "H_cell[0,1] = t_intra\n",
    "H_cell[1,0] = t_intra\n",
    "T_inter_cell[1,0] = t_inter\n",
    "H_cell = Qobj(H_cell)\n",
    "T_inter_cell = Qobj(T_inter_cell)"
   ]
  },
  {
   "cell_type": "markdown",
   "metadata": {},
   "source": [
    "Using cell_structures() is completely optional. The user could equally well have defined cell_H and inter_cell_T directly."
   ]
  },
  {
   "cell_type": "code",
   "execution_count": 43,
   "metadata": {},
   "outputs": [],
   "source": [
    "H_cell = Qobj( np.array( [[ 0, t_intra ],[t_intra,0]] )  )\n",
    "T_inter_cell =  Qobj( np.array( [[ 0, 0 ],[t_inter,0]] )  ) "
   ]
  },
  {
   "cell_type": "markdown",
   "metadata": {},
   "source": [
    "For our SSH lattice with 3 unit cells, 2 sites in each unit cell, and [1] degree of freedom per each site, we can initiate an instance of the Lattice1d class at this stage. "
   ]
  },
  {
   "cell_type": "code",
   "execution_count": 44,
   "metadata": {},
   "outputs": [],
   "source": [
    "boundary_condition = \"periodic\"\n",
    "cells = 3\n",
    "cell_sites = 2\n",
    "site_dof = [1]\n",
    "SSH_lattice = Lattice1d(num_cell=cells, boundary = boundary_condition, cell_num_site = cell_sites, cell_site_dof = site_dof, Hamiltonian_of_cell = H_cell, inter_hop = T_inter_cell )"
   ]
  },
  {
   "cell_type": "markdown",
   "metadata": {},
   "source": [
    "The model can be visualized with the display functions."
   ]
  },
  {
   "cell_type": "code",
   "execution_count": 8,
   "metadata": {},
   "outputs": [
    {
     "data": {
      "image/png": "[encoded data removed]",
      "text/plain": [
       "<Figure size 288x360 with 1 Axes>"
      ]
     },
     "metadata": {
      "needs_background": "light"
     },
     "output_type": "display_data"
    },
    {
     "data": {
      "image/png": "[encoded data removed]",
      "text/plain": [
       "<Figure size 648x648 with 1 Axes>"
      ]
     },
     "metadata": {
      "needs_background": "light"
     },
     "output_type": "display_data"
    }
   ],
   "source": [
    "H = SSH_lattice.display_unit_cell(label_on = True)\n",
    "T = SSH_lattice.display_lattice()"
   ]
  },
  {
   "cell_type": "markdown",
   "metadata": {},
   "source": [
    "The Hamiltonian of the lattice can be obtained with the method Hamiltonian()"
   ]
  },
  {
   "cell_type": "code",
   "execution_count": 45,
   "metadata": {},
   "outputs": [
    {
     "data": {
      "text/latex": [
       "Quantum object: dims = [[3, 2], [3, 2]], shape = (6, 6), type = oper, isherm = True\\begin{equation*}\\left(\\begin{array}{*{11}c}0.0 & -0.500 & 0.0 & 0.0 & 0.0 & -0.500\\\\-0.500 & 0.0 & -0.500 & 0.0 & 0.0 & 0.0\\\\0.0 & -0.500 & 0.0 & -0.500 & 0.0 & 0.0\\\\0.0 & 0.0 & -0.500 & 0.0 & -0.500 & 0.0\\\\0.0 & 0.0 & 0.0 & -0.500 & 0.0 & -0.500\\\\-0.500 & 0.0 & 0.0 & 0.0 & -0.500 & 0.0\\\\\\end{array}\\right)\\end{equation*}"
      ],
      "text/plain": [
       "Quantum object: dims = [[3, 2], [3, 2]], shape = (6, 6), type = oper, isherm = True\n",
       "Qobj data =\n",
       "[[ 0.  -0.5  0.   0.   0.  -0.5]\n",
       " [-0.5  0.  -0.5  0.   0.   0. ]\n",
       " [ 0.  -0.5  0.  -0.5  0.   0. ]\n",
       " [ 0.   0.  -0.5  0.  -0.5  0. ]\n",
       " [ 0.   0.   0.  -0.5  0.  -0.5]\n",
       " [-0.5  0.   0.   0.  -0.5  0. ]]"
      ]
     },
     "execution_count": 45,
     "metadata": {},
     "output_type": "execute_result"
    }
   ],
   "source": [
    "SSH_Haml = SSH_lattice.Hamiltonian()\n",
    "SSH_Haml"
   ]
  },
  {
   "cell_type": "markdown",
   "metadata": {},
   "source": [
    "### Sublattice Projectors and Chiral Symmetry of the SSH model:\n",
    "We explain now that, the Hamiltonian of the SSH model is bipartite. We can set the sites into two partitions. Each partition consists of the set of every other sites starting from site 0(or 1). Since, the Hamiltonian  does not enable any transition between sites of the same sublattice, only between them, the Hamiltonian is said to be bipartite."
   ]
  },
  {
   "cell_type": "markdown",
   "metadata": {},
   "source": [
    "\\begin{eqnarray}\n",
    "\\hat{P}_{A} = \\sum\\limits_{m=1}^{N} |m,A\\rangle \\langle n, A|,\\ \\ \\ \\ \\ \\ \\hat{P}_{B} = \\sum\\limits_{m=1}^{N} |m,B\\rangle \\langle n, B|, \\ \\ \\ \\ \\ \\\n",
    "\\hat{\\Sigma}_z = \\hat{P}_{A} - \\hat{P}_{B}\n",
    "\\end{eqnarray}"
   ]
  },
  {
   "cell_type": "markdown",
   "metadata": {},
   "source": [
    "The projectors $\\hat{P}_A$(or $\\hat{P}_B$) project out a ket vector into its projection into sublattice A(or B). Because, the Hamiltonian is bipartite,\n",
    "\\begin{eqnarray}\n",
    "\\hat{P}_{A} H \\hat{P}_{A} = \\hat{P}_{B} H \\hat{P}_{B} = 0\n",
    "\\end{eqnarray}\n"
   ]
  },
  {
   "cell_type": "markdown",
   "metadata": {},
   "source": [
    "The SSH Hamiltonian is said to have chiral symmetry, since\n",
    "\\begin{eqnarray}\n",
    "\\hat{\\Sigma}_z H \\hat{\\Sigma}_z = -H\n",
    "\\end{eqnarray}\n",
    "which is a generalization of the symmetry concept of a Hamiltonian, since, ordinarily, a Hamiltonian is said to have a symmetry if an unitary operator leaves it invariant.\n",
    "\\begin{eqnarray}\n",
    "\\hat{U} H \\hat{U}^{\\dagger} = H\n",
    "\\end{eqnarray}\n",
    "Now, we form the operators $\\hat{P}_A$,$\\hat{P}_B$ and $\\hat{\\Sigma}_z$, and verify the properties of the SSH Hamiltonian."
   ]
  },
  {
   "cell_type": "code",
   "execution_count": 46,
   "metadata": {},
   "outputs": [
    {
     "name": "stdout",
     "output_type": "stream",
     "text": [
      "True\n"
     ]
    }
   ],
   "source": [
    "chiral_op = SSH_lattice.distribute_operator(sigmaz())        \n",
    "anti_commutator_chi_H = chiral_op * SSH_Haml + SSH_Haml * chiral_op\n",
    "is_null = (np.abs(anti_commutator_chi_H.full() ) < 1E-10).all()\n",
    "print(is_null)"
   ]
  },
  {
   "cell_type": "markdown",
   "metadata": {},
   "source": [
    "Hence, it is verified that $\\hat{\\Sigma}_z$ and H indeed anticommute and the SSH Hamiltonian has chiral symmetry."
   ]
  },
  {
   "cell_type": "markdown",
   "metadata": {},
   "source": [
    "The dispersion relationship for the lattice can be obtained with plot_dispersion() method."
   ]
  },
  {
   "cell_type": "code",
   "execution_count": 47,
   "metadata": {},
   "outputs": [
    {
     "data": {
      "image/png": "[encoded data removed]",
      "text/plain": [
       "<Figure size 432x288 with 1 Axes>"
      ]
     },
     "metadata": {
      "needs_background": "light"
     },
     "output_type": "display_data"
    }
   ],
   "source": [
    "SSH_lattice.plot_dispersion()"
   ]
  },
  {
   "cell_type": "markdown",
   "metadata": {},
   "source": [
    "plot_dispersion() plots the 3(since number of unit cells in 3) points in k-space \n",
    "(the first and last one are the same) over the dispersion relation of an infinite\n",
    "crystal. "
   ]
  },
  {
   "cell_type": "code",
   "execution_count": 48,
   "metadata": {},
   "outputs": [],
   "source": [
    "[V,[S0,S1,S2,S3,S4,S5]]=SSH_Haml.eigenstates()"
   ]
  },
  {
   "cell_type": "code",
   "execution_count": 49,
   "metadata": {},
   "outputs": [
    {
     "data": {
      "text/plain": [
       "array([-1. , -0.5, -0.5,  0.5,  0.5,  1. ])"
      ]
     },
     "execution_count": 49,
     "metadata": {},
     "output_type": "execute_result"
    }
   ],
   "source": [
    "V"
   ]
  },
  {
   "cell_type": "markdown",
   "metadata": {},
   "source": [
    "First, the eigen-values are the same as the ones obtained from the dispersion calculation. Second, they are symmetric about the value 0.\n",
    "The second is a consequence of the chiral symmetry of the Hamiltonian, as we explain now.\n",
    "\\begin{eqnarray}\n",
    "\\hat{\\bf{1}} = \\hat{P}_A + \\hat{P}_B, \\ \\ \\ \\ \\, \\hat{P}_A = \\frac{1}{2}(\\hat{\\bf{1}}+\\hat{\\Sigma}_z), \\ \\ \\ \\ \\, \\hat{P}_B = \\frac{1}{2}(\\hat{\\bf{1}}-\\hat{\\Sigma}_z) \\nonumber \\\\\n",
    "H |\\psi_n\\rangle = E_n | \\psi_n \\rangle \\implies H (\\hat{\\Sigma}_z | \\psi_n \\rangle) = - \\hat{\\Sigma}_z H | \\psi_n \\rangle = -E_n (\\hat{\\Sigma}_z|\\psi_n\\rangle)\n",
    "\\end{eqnarray}\n",
    "So, if $|\\psi_n\\rangle$ is an eigenstate with eigenenergy $E_n$, $\\hat{\\Sigma}_z | \\psi_n \\rangle$ is also an eigenstate with energy $-E_n$ and the eigen-spectrum is symmetric about 0.\n"
   ]
  },
  {
   "cell_type": "markdown",
   "metadata": {},
   "source": [
    "Here, S0 is the eigenvector with eigenvalue -1 and S5 is the eigenvector with eigenvalue +1. So, we can verify if S5 is the same eigenvector(withinn a phase factor) as ($\\hat{\\Sigma}_z*$S0)."
   ]
  },
  {
   "cell_type": "code",
   "execution_count": 50,
   "metadata": {},
   "outputs": [
    {
     "name": "stdout",
     "output_type": "stream",
     "text": [
      "Quantum object: dims = [[3, 2], [1, 1]], shape = (6, 1), type = ket\n",
      "Qobj data =\n",
      "[[-0.40824829]\n",
      " [-0.40824829]\n",
      " [-0.40824829]\n",
      " [-0.40824829]\n",
      " [-0.40824829]\n",
      " [-0.40824829]]\n",
      "Quantum object: dims = [[3, 2], [1, 1]], shape = (6, 1), type = ket\n",
      "Qobj data =\n",
      "[[-0.40824829]\n",
      " [ 0.40824829]\n",
      " [-0.40824829]\n",
      " [ 0.40824829]\n",
      " [-0.40824829]\n",
      " [ 0.40824829]]\n",
      "Quantum object: dims = [[3, 2], [1, 1]], shape = (6, 1), type = ket\n",
      "Qobj data =\n",
      "[[ 0.40824829]\n",
      " [-0.40824829]\n",
      " [ 0.40824829]\n",
      " [-0.40824829]\n",
      " [ 0.40824829]\n",
      " [-0.40824829]]\n"
     ]
    }
   ],
   "source": [
    "print(S0)\n",
    "print(chiral_op*S0)\n",
    "print(S5)"
   ]
  },
  {
   "cell_type": "markdown",
   "metadata": {},
   "source": [
    "Clearly, S5 is the same eigenvector as ($\\hat{\\Sigma}_z*$S0)."
   ]
  },
  {
   "cell_type": "markdown",
   "metadata": {},
   "source": [
    "Since, $\\hat{\\Sigma}_z | \\psi_n \\rangle$ and $| \\psi_n \\rangle$ are eigenvectors of a Hermitian oerator,H with distinct eigenvalues, they must be orthogonal.\n",
    "\\begin{eqnarray}\n",
    "E_n \\ne 0 \\implies 0 = \\langle \\phi_n| \\hat{\\Sigma}_z | \\phi_n \\rangle = \\langle \\phi_n \\hat{P}_A |\\phi_n \\rangle - \\langle \\phi_n| \\hat{P}_B |\\phi_n \\rangle\n",
    "\\end{eqnarray}\n",
    "i.e., an eigenstate with nonzero eigenvalue has equal support on both sublattices. We, now check this for S5.\n"
   ]
  },
  {
   "cell_type": "code",
   "execution_count": 51,
   "metadata": {},
   "outputs": [
    {
     "name": "stdout",
     "output_type": "stream",
     "text": [
      "True\n"
     ]
    }
   ],
   "source": [
    "is_null = (np.abs( (S0.dag()*S5).full()  ) < 1E-10).all()\n",
    "print(is_null) # Are S0 and S5 orthogonal?"
   ]
  },
  {
   "cell_type": "code",
   "execution_count": 52,
   "metadata": {},
   "outputs": [
    {
     "name": "stdout",
     "output_type": "stream",
     "text": [
      "True\n"
     ]
    }
   ],
   "source": [
    "dimH = chiral_op.dims\n",
    "identity_H = Qobj(np.identity(6), dims=dimH)\n",
    "identity_H\n",
    "PA = 0.5*( identity_H + chiral_op)\n",
    "PB = 0.5*( identity_H - chiral_op)\n",
    "support_S5_A = S5.dag() * PA * S5\n",
    "support_S5_B = S5.dag() * PB * S5\n",
    "print(support_S5_A == support_S5_B) # Does S5 have equal support on A and B?"
   ]
  },
  {
   "cell_type": "markdown",
   "metadata": {},
   "source": [
    "We discuss the implications of $E_n = 0$ for an eigenvector later in the context of edge states later."
   ]
  },
  {
   "cell_type": "markdown",
   "metadata": {},
   "source": [
    "Unsurprisingly, diagonalizing the Hamiltonian gives the same spectrum of eigen-values\n",
    "as the one obtained from the plot_dispersion() function. We shall soon illustrate, translational symmetry is a very useful computational hack. Here, we see how they can produce the eigen-values and eigen-vectors of the Hamiltonian ($6\\times6$, in our example) from diagonalizing a $2\\times2$ matrix. The reduction in size by a factor of 3 comes from the fact that the lattice of 3 cells repeats itself infinitely on both ends."
   ]
  },
  {
   "cell_type": "markdown",
   "metadata": {},
   "source": [
    "### Using Translational Symmetry:\n",
    "Any periodic lattice Hamiltonian can be diagonalized easier exploiting translational symmetry, this feature is not specific to SSH model alone."
   ]
  },
  {
   "cell_type": "markdown",
   "metadata": {},
   "source": [
    "\\begin{eqnarray}\n",
    "|\\psi_n(k) \\rangle = |k \\rangle \\otimes | u_{n}(k) \\rangle   \\nonumber \\\\\n",
    "| u_{n}(k) \\rangle = a_n(k)|a\\rangle  + b_n(k)|b\\rangle \\nonumber \\\\\n",
    "\\end{eqnarray}\n",
    "The vectors $| u_{nk}(r) \\rangle \\in H_{internal}$ are the eigenstates of the bulk momentum space Hamiltonian $H(k)$ defined as\n",
    "\\begin{eqnarray}\n",
    "\\langle k | H_{bulk} | k \\rangle = \\sum\\limits_{\\alpha,\\beta \\in {A,B}} \\langle k, \\alpha | H_{bulk} | k, \\beta \\rangle | \\alpha \\rangle \\langle \\beta |  \\nonumber \\\\\n",
    "H(k)|u_{n}(k) \\rangle = E(k)| u_{n}(k) \\rangle\n",
    "\\end{eqnarray}\n",
    "In a lattice with N unitcells, since $|\\psi_n(k) \\rangle$ is required to be periodic over N cells, it needs to be invariant with a translation by N cells, and the valid/good quantum number for k are $0,1,2,...,\\frac{2\\pi}{N}$.\n"
   ]
  },
  {
   "cell_type": "markdown",
   "metadata": {},
   "source": [
    "The dispersion, $E(k)$ can be obtained from get_dispersion() method. A list of $H(k)$ at the valid quantum numbers can be produced from the bulk_Hamiltonian_array() method."
   ]
  },
  {
   "cell_type": "code",
   "execution_count": 53,
   "metadata": {},
   "outputs": [
    {
     "data": {
      "text/plain": [
       "array([Quantum object: dims = [[2], [2]], shape = (2, 2), type = oper, isherm = True\n",
       "Qobj data =\n",
       "[[ 0.  +0.j        -0.25-0.4330127j]\n",
       " [-0.25+0.4330127j  0.  +0.j       ]],\n",
       "       Quantum object: dims = [[2], [2]], shape = (2, 2), type = oper, isherm = True\n",
       "Qobj data =\n",
       "[[ 0. -1.]\n",
       " [-1.  0.]],\n",
       "       Quantum object: dims = [[2], [2]], shape = (2, 2), type = oper, isherm = True\n",
       "Qobj data =\n",
       "[[ 0.  +0.j        -0.25+0.4330127j]\n",
       " [-0.25-0.4330127j  0.  +0.j       ]]], dtype=object)"
      ]
     },
     "execution_count": 53,
     "metadata": {},
     "output_type": "execute_result"
    }
   ],
   "source": [
    "(knxA, qH_ks) = SSH_lattice.bulk_Hamiltonians()\n",
    "qH_ks"
   ]
  },
  {
   "cell_type": "markdown",
   "metadata": {},
   "source": [
    "The array of $|u_n(k) \\rangle$(in terms of its expansion in {a(k),b(k)}) at the good quantum numbers, k can be produced with the method array_of_unk()."
   ]
  },
  {
   "cell_type": "code",
   "execution_count": 54,
   "metadata": {},
   "outputs": [
    {
     "data": {
      "text/plain": [
       "array([[[-0.70710678+0.j        , -0.35355339+0.61237244j],\n",
       "        [ 0.70710678+0.j        , -0.35355339+0.61237244j]],\n",
       "\n",
       "       [[-0.70710678+0.j        , -0.70710678+0.j        ],\n",
       "        [-0.70710678+0.j        ,  0.70710678+0.j        ]],\n",
       "\n",
       "       [[-0.70710678+0.j        , -0.35355339-0.61237244j],\n",
       "        [ 0.70710678+0.j        , -0.35355339-0.61237244j]]])"
      ]
     },
     "execution_count": 54,
     "metadata": {},
     "output_type": "execute_result"
    }
   ],
   "source": [
    "(knxA, vec_kns) = SSH_lattice.cell_periodic_parts()\n",
    "vec_kns"
   ]
  },
  {
   "cell_type": "markdown",
   "metadata": {},
   "source": [
    "In both cases, knxA is simply an array containing the valid values of k, in units of $2\\pi/a$, a being the length of the unit cell i.e. 1. a is always 1 in all methods()."
   ]
  },
  {
   "cell_type": "code",
   "execution_count": 55,
   "metadata": {},
   "outputs": [
    {
     "data": {
      "text/plain": [
       "array([[-2.0943951],\n",
       "       [ 0.       ],\n",
       "       [ 2.0943951]])"
      ]
     },
     "execution_count": 55,
     "metadata": {},
     "output_type": "execute_result"
    }
   ],
   "source": [
    "knxA"
   ]
  },
  {
   "cell_type": "markdown",
   "metadata": {},
   "source": [
    "bloch_wave_functions() yields an ordered array for the eigenvalues and eigenvectors(which are bloch wave functions) for the Hailtonian of the lattice."
   ]
  },
  {
   "cell_type": "code",
   "execution_count": 56,
   "metadata": {},
   "outputs": [
    {
     "data": {
      "text/plain": [
       "array([(-0.5, Quantum object: dims = [[3, 2], [1, 1]], shape = (6, 1), type = ket\n",
       "Qobj data =\n",
       "[[-0.57735027]\n",
       " [-0.28867513]\n",
       " [ 0.28867513]\n",
       " [ 0.57735027]\n",
       " [ 0.28867513]\n",
       " [-0.28867513]]),\n",
       "       ( 0.5, Quantum object: dims = [[3, 2], [1, 1]], shape = (6, 1), type = ket\n",
       "Qobj data =\n",
       "[[ 0.57735027]\n",
       " [-0.28867513]\n",
       " [-0.28867513]\n",
       " [ 0.57735027]\n",
       " [-0.28867513]\n",
       " [-0.28867513]]),\n",
       "       (-1. , Quantum object: dims = [[3, 2], [1, 1]], shape = (6, 1), type = ket\n",
       "Qobj data =\n",
       "[[-0.40824829]\n",
       " [-0.40824829]\n",
       " [-0.40824829]\n",
       " [-0.40824829]\n",
       " [-0.40824829]\n",
       " [-0.40824829]]),\n",
       "       ( 1. , Quantum object: dims = [[3, 2], [1, 1]], shape = (6, 1), type = ket\n",
       "Qobj data =\n",
       "[[-0.40824829]\n",
       " [ 0.40824829]\n",
       " [-0.40824829]\n",
       " [ 0.40824829]\n",
       " [-0.40824829]\n",
       " [ 0.40824829]]),\n",
       "       (-0.5, Quantum object: dims = [[3, 2], [1, 1]], shape = (6, 1), type = ket\n",
       "Qobj data =\n",
       "[[-0.57735027]\n",
       " [-0.28867513]\n",
       " [ 0.28867513]\n",
       " [ 0.57735027]\n",
       " [ 0.28867513]\n",
       " [-0.28867513]]),\n",
       "       ( 0.5, Quantum object: dims = [[3, 2], [1, 1]], shape = (6, 1), type = ket\n",
       "Qobj data =\n",
       "[[ 0.57735027]\n",
       " [-0.28867513]\n",
       " [-0.28867513]\n",
       " [ 0.57735027]\n",
       " [-0.28867513]\n",
       " [-0.28867513]])], dtype=[('eigen_value', '<f16'), ('eigen_vector', 'O')])"
      ]
     },
     "execution_count": 56,
     "metadata": {},
     "output_type": "execute_result"
    }
   ],
   "source": [
    "eigen_states = SSH_lattice.bloch_wave_functions()\n",
    "eigen_states"
   ]
  },
  {
   "cell_type": "markdown",
   "metadata": {},
   "source": [
    "Knowing the cell periodic part of a bloch wavefunction, $u_n(k)$ suffices to calculate it. The translational symmetry enables calculation of the eigenstates of a $6\\times6$ matrix through diagonalizing a $2\\times2$ matrix."
   ]
  },
  {
   "cell_type": "markdown",
   "metadata": {},
   "source": [
    "### Topology: Winding Number:\n",
    "Due to the chiral symmetry, the bulk momentum space Hamiltonian,$H(k)$ can be written in terms of $\\sigma_x$ and $\\sigma_y$ components alone.\n",
    "\\begin{eqnarray}\n",
    "H(k)= h_x(k)\\sigma_x + h_y(k)\\sigma_y\n",
    "\\end{eqnarray}\n",
    "For this specific model, where $\\bf{h}(k)$ moves about in a 2d plane($h_x-h_y$), winding number is a topological invariant characterizing the topology of the model. It enumerates the number of times, $\\bf{h}(k)$ traverses around the origin in a positive sense as k is varied from 0 to $2\\pi$.\n",
    "The method winding_number() evaluates the following integral to determine it as well as plots the trajectory of $\\bf{h}(k)$ in the $h_x-h_y$ plane.\n",
    "\\begin{eqnarray}\n",
    "\\nu = \\frac{1}{2\\pi i}\\int\\limits_{-\\pi}^{\\pi} dk \\frac{d}{dk}Log(h(k)) \\ \\ \\ \\text{,where} \\ \\ \\ \\ \\ \\ \\ \\ h(k) = h_x(k)- ih_y(k)\n",
    "\\end{eqnarray}\n",
    "\n",
    "\n",
    "\n",
    "\n"
   ]
  },
  {
   "cell_type": "markdown",
   "metadata": {},
   "source": [
    "### The trivial Insulator:\n",
    "The latice become a gapped system when $t_{inter}$ does not equal $t_{intra}$. For the case of $|t_{inter}| < |t_{intra}|$, the lattice is a topologically trivial insulator."
   ]
  },
  {
   "cell_type": "code",
   "execution_count": 57,
   "metadata": {},
   "outputs": [],
   "source": [
    "t_intra = -0.5\n",
    "t_inter = -0.35\n",
    "H_cell = Qobj( np.array( [[ 0, t_intra ],[t_intra,0]] )  )\n",
    "T_inter_cell =  Qobj( np.array( [[ 0, 0 ],[t_inter,0]] )  ) \n",
    "SSH_lattice_TrI = Lattice1d(num_cell=100, boundary = \"periodic\", cell_num_site = 2, cell_site_dof = [1], Hamiltonian_of_cell = H_cell, inter_hop = T_inter_cell )"
   ]
  },
  {
   "cell_type": "code",
   "execution_count": 58,
   "metadata": {},
   "outputs": [
    {
     "data": {
      "image/png": "[encoded data removed]",
      "text/plain": [
       "<Figure size 432x288 with 1 Axes>"
      ]
     },
     "metadata": {
      "needs_background": "light"
     },
     "output_type": "display_data"
    }
   ],
   "source": [
    "SSH_lattice_TrI.plot_dispersion()"
   ]
  },
  {
   "cell_type": "code",
   "execution_count": 59,
   "metadata": {},
   "outputs": [],
   "source": [
    "SSH_H_t = SSH_lattice_TrI.Hamiltonian()\n",
    "D = SSH_H_t.eigenenergies()"
   ]
  },
  {
   "cell_type": "code",
   "execution_count": 60,
   "metadata": {},
   "outputs": [
    {
     "data": {
      "image/png": "[encoded data removed]",
      "text/plain": [
       "<Figure size 432x288 with 1 Axes>"
      ]
     },
     "metadata": {
      "needs_background": "light"
     },
     "output_type": "display_data"
    }
   ],
   "source": [
    "plt.plot(D,'ro')\n",
    "plt.xlabel('index of eigen values')\n",
    "plt.ylabel('eigen values')\n",
    "plt.show()\n",
    "plt.close()"
   ]
  },
  {
   "cell_type": "markdown",
   "metadata": {},
   "source": [
    "Unsurprisingly, we see a gap in the dispersion relationship and also in the spectrum of\n",
    "eigen values of the Hamiltonian."
   ]
  },
  {
   "cell_type": "markdown",
   "metadata": {},
   "source": [
    "However, a calculation of the winding number yields 0, since it has trivial topology."
   ]
  },
  {
   "cell_type": "code",
   "execution_count": 61,
   "metadata": {},
   "outputs": [
    {
     "data": {
      "image/png": "[encoded data removed]",
      "text/plain": [
       "<Figure size 197.1x197.1 with 1 Axes>"
      ]
     },
     "metadata": {
      "needs_background": "light"
     },
     "output_type": "display_data"
    },
    {
     "data": {
      "text/plain": [
       "0.0"
      ]
     },
     "execution_count": 61,
     "metadata": {},
     "output_type": "execute_result"
    }
   ],
   "source": [
    "SSH_lattice_TrI.winding_number()"
   ]
  },
  {
   "cell_type": "markdown",
   "metadata": {},
   "source": [
    "### The Topologically Nontrivial Insulator\n",
    "The other limit ($|t_{inter}| < |t_{intra}| $) is the interesting one, although the same\n",
    "calculations on a lattice with periodic boundary condition reveal nothing interesting."
   ]
  },
  {
   "cell_type": "code",
   "execution_count": 62,
   "metadata": {},
   "outputs": [],
   "source": [
    "t_intra = -0.5\n",
    "t_inter = -0.65\n",
    "H_cell = Qobj( np.array( [[ 0, t_intra ],[t_intra,0]] )  )\n",
    "T_inter_cell =  Qobj( np.array( [[ 0, 0 ],[t_inter,0]] )  ) \n",
    "pSSH_lattice_nTrI = Lattice1d(num_cell=100, boundary = \"periodic\", cell_num_site = 2, cell_site_dof = [1], Hamiltonian_of_cell = H_cell, inter_hop = T_inter_cell )"
   ]
  },
  {
   "cell_type": "code",
   "execution_count": 63,
   "metadata": {},
   "outputs": [
    {
     "data": {
      "image/png": "[encoded data removed]",
      "text/plain": [
       "<Figure size 432x288 with 1 Axes>"
      ]
     },
     "metadata": {
      "needs_background": "light"
     },
     "output_type": "display_data"
    }
   ],
   "source": [
    "pSSH_lattice_nTrI.plot_dispersion()"
   ]
  },
  {
   "cell_type": "code",
   "execution_count": 64,
   "metadata": {},
   "outputs": [],
   "source": [
    "pSSH_H_nt = pSSH_lattice_nTrI.Hamiltonian()\n",
    "nD = pSSH_H_nt.eigenenergies()"
   ]
  },
  {
   "cell_type": "code",
   "execution_count": 65,
   "metadata": {},
   "outputs": [
    {
     "data": {
      "image/png": "[encoded data removed]",
      "text/plain": [
       "<Figure size 432x288 with 1 Axes>"
      ]
     },
     "metadata": {
      "needs_background": "light"
     },
     "output_type": "display_data"
    }
   ],
   "source": [
    "plt.plot(nD,'ro')\n",
    "plt.ylabel('eigen values')\n",
    "plt.show()\n",
    "plt.close()"
   ]
  },
  {
   "cell_type": "markdown",
   "metadata": {},
   "source": [
    "### Topologically Nontrivial Insulator: Hardwall Boundary Condition\n",
    "To reveal the topological nontriviality, we have to put the insulator next to a \n",
    "boundary, i.e. use a hardwall boundary condition and the spectrum of eigenvalues of\n",
    "the Hamiltonian shows the conspicuous edge states which plotted as a eigenvector\n",
    "are dense towards the edge considerably. However, the dispersion looks completely the\n",
    "same."
   ]
  },
  {
   "cell_type": "code",
   "execution_count": 66,
   "metadata": {},
   "outputs": [],
   "source": [
    "t_intra = -0.5\n",
    "t_inter = -0.65\n",
    "cell_H = Qobj( np.array( [[ 0, t_intra ],[t_intra,0]] )  )\n",
    "inter_cell_T =  Qobj( np.array( [[ 0, 0 ],[t_inter,0]] )  ) \n",
    "apSSH_lattice_nTrI = Lattice1d(num_cell=100, boundary = \"aperiodic\", cell_num_site = 2, cell_site_dof = [1], Hamiltonian_of_cell = cell_H, inter_hop = inter_cell_T )"
   ]
  },
  {
   "cell_type": "code",
   "execution_count": 67,
   "metadata": {},
   "outputs": [
    {
     "data": {
      "image/png": "[encoded data removed]",
      "text/plain": [
       "<Figure size 261.9x261.9 with 1 Axes>"
      ]
     },
     "metadata": {
      "needs_background": "light"
     },
     "output_type": "display_data"
    },
    {
     "data": {
      "text/plain": [
       "1.0"
      ]
     },
     "execution_count": 67,
     "metadata": {},
     "output_type": "execute_result"
    }
   ],
   "source": [
    "apSSH_lattice_nTrI.winding_number()"
   ]
  },
  {
   "cell_type": "code",
   "execution_count": 68,
   "metadata": {},
   "outputs": [],
   "source": [
    "apSSH_H_nt = apSSH_lattice_nTrI.Hamiltonian()\n",
    "[n_D,Vx] = apSSH_H_nt.eigenstates()"
   ]
  },
  {
   "cell_type": "code",
   "execution_count": 69,
   "metadata": {},
   "outputs": [
    {
     "data": {
      "image/png": "[encoded data removed]",
      "text/plain": [
       "<Figure size 432x288 with 1 Axes>"
      ]
     },
     "metadata": {
      "needs_background": "light"
     },
     "output_type": "display_data"
    }
   ],
   "source": [
    "plt.plot(n_D,'ro')\n",
    "plt.ylabel('eigen values')\n",
    "plt.show()\n",
    "plt.close()"
   ]
  },
  {
   "cell_type": "markdown",
   "metadata": {},
   "source": [
    "We observe the much celebrated mid-gap edge states, who appear at mid-gaps. The nontriviality of the topological insulator is revealed with their placement next to a boundary. The edge states are the consequences of the bulk-bundary correspondence. Plotting the absolute values of the eigen-functions reveal that they are localized at the edges. We plot the absolute values of the eigenfunctions corresponding to the two eigenvalues found at mid-gaps."
   ]
  },
  {
   "cell_type": "code",
   "execution_count": 70,
   "metadata": {},
   "outputs": [
    {
     "data": {
      "image/png": "[encoded data removed]",
      "text/plain": [
       "<Figure size 720x288 with 2 Axes>"
      ]
     },
     "metadata": {
      "needs_background": "light"
     },
     "output_type": "display_data"
    }
   ],
   "source": [
    "xA = [i for i in range(200)]\n",
    "Es0 = np.abs(Vx[99].full())\n",
    "Es1 = np.abs(Vx[100].full())\n",
    "fig, (ax1, ax2) = plt.subplots(1, 2, figsize=(10, 4), sharey=True)\n",
    "ax1.plot(xA, Es0, label=\"State0\")\n",
    "ax2.plot(xA, Es1, label=\"State1\")\n",
    "ax1.legend()\n",
    "ax2.legend()\n",
    "plt.show()\n",
    "fig.suptitle('Mid-gap Edge states')\n",
    "plt.close()"
   ]
  },
  {
   "cell_type": "markdown",
   "metadata": {},
   "source": [
    "It is quite obvious, the edge states are localized towards the edges.\n",
    "The eigenstates are not unique, they are only unique within a phase factor. The routine used in QuTiP only yields eigenstates that are one of the possibilities within the phase factor."
   ]
  },
  {
   "cell_type": "markdown",
   "metadata": {},
   "source": [
    "Let us check out the two edge state eigenvalues as well as the three preceding and three succeeding ones."
   ]
  },
  {
   "cell_type": "code",
   "execution_count": 71,
   "metadata": {},
   "outputs": [
    {
     "data": {
      "text/plain": [
       "array([-1.59927001e-01, -1.54500638e-01, -1.51139332e-01, -1.06979021e-12,\n",
       "        1.07098245e-12,  1.51139332e-01,  1.54500638e-01,  1.59927001e-01])"
      ]
     },
     "execution_count": 71,
     "metadata": {},
     "output_type": "execute_result"
    }
   ],
   "source": [
    "n_D[96:104]"
   ]
  },
  {
   "cell_type": "markdown",
   "metadata": {},
   "source": [
    "It is obvious that, n_D[99] and n_D[100] are values 0 within numerical precision. There is an interesting property of the eigenstates of a chiral Hamiltonian with eigenvalue 0."
   ]
  },
  {
   "cell_type": "markdown",
   "metadata": {},
   "source": [
    "\\begin{eqnarray}\n",
    "H|\\psi_n \\rangle = 0 \\implies H(\\hat{P}_{A/B}| \\psi_n\\rangle) = \\frac{1}{2}H(\\hat{\\bf{1}} \\pm \\Sigma_z )| \\psi_n \\rangle = \\frac{1}{2}(\\hat{\\bf{1}} \\mp \\Sigma_z )H| \\psi_n \\rangle = 0\n",
    "\\end{eqnarray}"
   ]
  },
  {
   "cell_type": "markdown",
   "metadata": {},
   "source": [
    "Therefore, $\\hat{P}_{A/B} |\\psi_n\\rangle$ is an eigenstate with eigenvalue 0 as well. As a result, the edge-states can be chosen to have support in only one sublattice."
   ]
  },
  {
   "cell_type": "code",
   "execution_count": 72,
   "metadata": {},
   "outputs": [
    {
     "data": {
      "image/png": "[encoded data removed]",
      "text/plain": [
       "<Figure size 720x288 with 2 Axes>"
      ]
     },
     "metadata": {
      "needs_background": "light"
     },
     "output_type": "display_data"
    }
   ],
   "source": [
    "chiral_op_nTrI = apSSH_lattice_nTrI.distribute_operator(sigmaz())\n",
    "dimH_nTrI = chiral_op_nTrI.dims\n",
    "identity_H_nTrI = Qobj(np.identity(200), dims=dimH_nTrI)\n",
    "identity_H_nTrI\n",
    "PA_200 = 0.5*( identity_H_nTrI + chiral_op_nTrI).full()\n",
    "PB_200 = 0.5*( identity_H_nTrI - chiral_op_nTrI).full()\n",
    "\n",
    "xA = [i for i in range(200)]\n",
    "Es0 = np.abs(PA_200*Vx[99])\n",
    "Es1 = np.abs(PB_200*Vx[99])\n",
    "fig, (ax1, ax2) = plt.subplots(1, 2, figsize=(10, 4), sharey=True)\n",
    "ax1.plot(xA, Es0, label=\"State0\")\n",
    "ax2.plot(xA, Es1, label=\"State1\")\n",
    "ax1.legend()\n",
    "ax2.legend()\n",
    "plt.show()\n",
    "fig.suptitle('Mid-gap Edge states')\n",
    "plt.close()"
   ]
  },
  {
   "cell_type": "markdown",
   "metadata": {},
   "source": [
    "$\\hat{P}_{A} |\\psi_n\\rangle$ and $\\hat{P}_{B} |\\psi_n\\rangle$ are orthogonal eigenstates with eigenvalue 0, and we can choose the two edge states to be localized at two edges of the lattice. Just to be sure, we also check if $H\\hat{P}_{A/B} |\\psi_n\\rangle $ is indeed 0."
   ]
  },
  {
   "cell_type": "code",
   "execution_count": 73,
   "metadata": {},
   "outputs": [
    {
     "name": "stdout",
     "output_type": "stream",
     "text": [
      "True\n"
     ]
    }
   ],
   "source": [
    "is_null = (np.abs(apSSH_H_nt*PA_200*Vx[99]) < 1E-10).all()\n",
    "print(is_null)"
   ]
  },
  {
   "cell_type": "code",
   "execution_count": 37,
   "metadata": {},
   "outputs": [
    {
     "name": "stdout",
     "output_type": "stream",
     "text": [
      "\n",
      "QuTiP: Quantum Toolbox in Python\n",
      "================================\n",
      "Copyright (c) QuTiP team 2011 and later.\n",
      "Current admin team: Alexander Pitchford, Nathan Shammah, Shahnawaz Ahmed, Neill Lambert, Eric Giguère, Boxi Li and Jake Lishman.\n",
      "Board members: Daniel Burgarth, Robert Johansson, Anton F. Kockum, Franco Nori and Will Zeng.\n",
      "Original developers: R. J. Johansson & P. D. Nation.\n",
      "Previous lead developers: Chris Granade & A. Grimsmo.\n",
      "Currently developed through wide collaboration. See https://github.com/qutip for details.\n",
      "\n",
      "QuTiP Version:      4.5.3\n",
      "Numpy Version:      1.17.0\n",
      "Scipy Version:      1.5.3\n",
      "Cython Version:     0.29.24\n",
      "Matplotlib Version: 3.3.4\n",
      "Python Version:     3.6.13\n",
      "Number of CPUs:     4\n",
      "BLAS Info:          OPENBLAS\n",
      "OPENMP Installed:   False\n",
      "INTEL MKL Ext:      False\n",
      "Platform Info:      Linux (x86_64)\n",
      "Installation path:  /home/saumya/anaconda3/envs/qlat_dev2/lib/python3.6/site-packages/qutip\n",
      "================================================================================\n",
      "Please cite QuTiP in your publication.\n",
      "================================================================================\n",
      "For your convenience a bibtex reference can be easily generated using `qutip.cite()`\n"
     ]
    }
   ],
   "source": [
    "import qutip\n",
    "qutip.about()"
   ]
  },
  {
   "cell_type": "code",
   "execution_count": 39,
   "metadata": {},
   "outputs": [
    {
     "name": "stdout",
     "output_type": "stream",
     "text": [
      "@article{qutip2,\n",
      "doi = {10.1016/j.cpc.2012.11.019},\n",
      "url = {https://doi.org/10.1016/j.cpc.2012.11.019},\n",
      "year  = {2013},\n",
      "month = {apr},\n",
      "publisher = {Elsevier {BV}},\n",
      "volume = {184},\n",
      "number = {4},\n",
      "pages = {1234--1240},\n",
      "author = {J.R. Johansson and P.D. Nation and F. Nori},\n",
      "title = {{QuTiP} 2: A {P}ython framework for the dynamics of open quantum systems},\n",
      "journal = {Computer Physics Communications}\n",
      "}\n",
      "@article{qutip1,\n",
      "doi = {10.1016/j.cpc.2012.02.021},\n",
      "url = {https://doi.org/10.1016/j.cpc.2012.02.021},\n",
      "year  = {2012},\n",
      "month = {aug},\n",
      "publisher = {Elsevier {BV}},\n",
      "volume = {183},\n",
      "number = {8},\n",
      "pages = {1760--1772},\n",
      "author = {J.R. Johansson and P.D. Nation and F. Nori},\n",
      "title = {{QuTiP}: An open-source {P}ython framework for the dynamics of open quantum systems},\n",
      "journal = {Computer Physics Communications}\n",
      "}\n"
     ]
    }
   ],
   "source": [
    "qutip.cite()"
   ]
  }
 ],
 "metadata": {
  "kernelspec": {
   "display_name": "Python 3",
   "language": "python",
   "name": "python3"
  },
  "language_info": {
   "codemirror_mode": {
    "name": "ipython",
    "version": 3
   },
   "file_extension": ".py",
   "mimetype": "text/x-python",
   "name": "python",
   "nbconvert_exporter": "python",
   "pygments_lexer": "ipython3",
   "version": "3.6.13"
  }
 },
 "nbformat": 4,
 "nbformat_minor": 2
}
